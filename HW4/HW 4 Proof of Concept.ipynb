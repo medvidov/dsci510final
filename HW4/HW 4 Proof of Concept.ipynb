{
 "cells": [
  {
   "cell_type": "code",
   "execution_count": 38,
   "id": "ff7071ea",
   "metadata": {},
   "outputs": [],
   "source": [
    "import seaborn as sns\n",
    "import matplotlib.pyplot as plt\n",
    "import pandas as pd\n",
    "import datetime\n",
    "import yfinance as yf\n",
    "import pandas as pd\n",
    "import os\n",
    "import json\n",
    "import gzip\n",
    "import re\n",
    "import matplotlib.pyplot as plt\n",
    "import numpy as np\n",
    "\n",
    "pd.options.mode.chained_assignment = None  # default='warn'"
   ]
  },
  {
   "cell_type": "code",
   "execution_count": 2,
   "id": "78ded8e8",
   "metadata": {},
   "outputs": [],
   "source": [
    "data = '../data/ratings/Appliances.csv'\n",
    "\n",
    "col_names = ['Item ID', 'User ID', 'Rating', 'Timestamp']\n",
    "\n",
    "df = pd.read_csv(data, names = col_names)"
   ]
  },
  {
   "cell_type": "code",
   "execution_count": 3,
   "id": "e2fef724",
   "metadata": {},
   "outputs": [
    {
     "data": {
      "text/html": [
       "<div>\n",
       "<style scoped>\n",
       "    .dataframe tbody tr th:only-of-type {\n",
       "        vertical-align: middle;\n",
       "    }\n",
       "\n",
       "    .dataframe tbody tr th {\n",
       "        vertical-align: top;\n",
       "    }\n",
       "\n",
       "    .dataframe thead th {\n",
       "        text-align: right;\n",
       "    }\n",
       "</style>\n",
       "<table border=\"1\" class=\"dataframe\">\n",
       "  <thead>\n",
       "    <tr style=\"text-align: right;\">\n",
       "      <th></th>\n",
       "      <th>Item ID</th>\n",
       "      <th>User ID</th>\n",
       "      <th>Rating</th>\n",
       "      <th>Timestamp</th>\n",
       "    </tr>\n",
       "  </thead>\n",
       "  <tbody>\n",
       "    <tr>\n",
       "      <th>0</th>\n",
       "      <td>1118461304</td>\n",
       "      <td>A3NHUQ33CFH3VM</td>\n",
       "      <td>5.0</td>\n",
       "      <td>1385510400</td>\n",
       "    </tr>\n",
       "    <tr>\n",
       "      <th>1</th>\n",
       "      <td>1118461304</td>\n",
       "      <td>A3SK6VNBQDNBJE</td>\n",
       "      <td>5.0</td>\n",
       "      <td>1383264000</td>\n",
       "    </tr>\n",
       "    <tr>\n",
       "      <th>2</th>\n",
       "      <td>1118461304</td>\n",
       "      <td>A3SOFHUR27FO3K</td>\n",
       "      <td>5.0</td>\n",
       "      <td>1381363200</td>\n",
       "    </tr>\n",
       "    <tr>\n",
       "      <th>3</th>\n",
       "      <td>1118461304</td>\n",
       "      <td>A1HOG1PYCAE157</td>\n",
       "      <td>5.0</td>\n",
       "      <td>1381276800</td>\n",
       "    </tr>\n",
       "    <tr>\n",
       "      <th>4</th>\n",
       "      <td>1118461304</td>\n",
       "      <td>A26JGAM6GZMM4V</td>\n",
       "      <td>5.0</td>\n",
       "      <td>1378512000</td>\n",
       "    </tr>\n",
       "    <tr>\n",
       "      <th>...</th>\n",
       "      <td>...</td>\n",
       "      <td>...</td>\n",
       "      <td>...</td>\n",
       "      <td>...</td>\n",
       "    </tr>\n",
       "    <tr>\n",
       "      <th>602772</th>\n",
       "      <td>B01HJH2PY0</td>\n",
       "      <td>A24A9P4F2SLTK5</td>\n",
       "      <td>5.0</td>\n",
       "      <td>1502323200</td>\n",
       "    </tr>\n",
       "    <tr>\n",
       "      <th>602773</th>\n",
       "      <td>B01HJHHEA0</td>\n",
       "      <td>A2JCB4KHBWEELW</td>\n",
       "      <td>2.0</td>\n",
       "      <td>1533081600</td>\n",
       "    </tr>\n",
       "    <tr>\n",
       "      <th>602774</th>\n",
       "      <td>B01HJHHEA0</td>\n",
       "      <td>A1LDYYVTLPP2Z5</td>\n",
       "      <td>5.0</td>\n",
       "      <td>1523577600</td>\n",
       "    </tr>\n",
       "    <tr>\n",
       "      <th>602775</th>\n",
       "      <td>B01HJH92JQ</td>\n",
       "      <td>AP1M5O06IOYZ7</td>\n",
       "      <td>1.0</td>\n",
       "      <td>1521763200</td>\n",
       "    </tr>\n",
       "    <tr>\n",
       "      <th>602776</th>\n",
       "      <td>B01HJH92JQ</td>\n",
       "      <td>A1BU98NV4Y0P9K</td>\n",
       "      <td>3.0</td>\n",
       "      <td>1515369600</td>\n",
       "    </tr>\n",
       "  </tbody>\n",
       "</table>\n",
       "<p>602777 rows × 4 columns</p>\n",
       "</div>"
      ],
      "text/plain": [
       "           Item ID         User ID  Rating   Timestamp\n",
       "0       1118461304  A3NHUQ33CFH3VM     5.0  1385510400\n",
       "1       1118461304  A3SK6VNBQDNBJE     5.0  1383264000\n",
       "2       1118461304  A3SOFHUR27FO3K     5.0  1381363200\n",
       "3       1118461304  A1HOG1PYCAE157     5.0  1381276800\n",
       "4       1118461304  A26JGAM6GZMM4V     5.0  1378512000\n",
       "...            ...             ...     ...         ...\n",
       "602772  B01HJH2PY0  A24A9P4F2SLTK5     5.0  1502323200\n",
       "602773  B01HJHHEA0  A2JCB4KHBWEELW     2.0  1533081600\n",
       "602774  B01HJHHEA0  A1LDYYVTLPP2Z5     5.0  1523577600\n",
       "602775  B01HJH92JQ   AP1M5O06IOYZ7     1.0  1521763200\n",
       "602776  B01HJH92JQ  A1BU98NV4Y0P9K     3.0  1515369600\n",
       "\n",
       "[602777 rows x 4 columns]"
      ]
     },
     "execution_count": 3,
     "metadata": {},
     "output_type": "execute_result"
    }
   ],
   "source": [
    "df"
   ]
  },
  {
   "cell_type": "code",
   "execution_count": 4,
   "id": "dc905a99",
   "metadata": {},
   "outputs": [
    {
     "name": "stdout",
     "output_type": "stream",
     "text": [
      "602777\n"
     ]
    },
    {
     "name": "stderr",
     "output_type": "stream",
     "text": [
      "/tmp/ipykernel_5128/2913038016.py:6: SettingWithCopyWarning: \n",
      "A value is trying to be set on a copy of a slice from a DataFrame\n",
      "\n",
      "See the caveats in the documentation: https://pandas.pydata.org/pandas-docs/stable/user_guide/indexing.html#returning-a-view-versus-a-copy\n",
      "  times[i] = datetime.datetime.fromtimestamp(times[i]) # This will give a warning, but does do what I need it to\n"
     ]
    }
   ],
   "source": [
    "times = df['Timestamp']\n",
    "\n",
    "print(len(times))\n",
    "\n",
    "for i in range(len(times)):\n",
    "    times[i] = datetime.datetime.fromtimestamp(times[i]) # This will give a warning, but does do what I need it to\n",
    "    # times.replace(times[i], datetime.datetime.fromtimestamp(times[i]))"
   ]
  },
  {
   "cell_type": "code",
   "execution_count": 5,
   "id": "c43eb176",
   "metadata": {},
   "outputs": [
    {
     "data": {
      "text/plain": [
       "0         2013-11-26 16:00:00\n",
       "1         2013-10-31 17:00:00\n",
       "2         2013-10-09 17:00:00\n",
       "3         2013-10-08 17:00:00\n",
       "4         2013-09-06 17:00:00\n",
       "                 ...         \n",
       "602772    2017-08-09 17:00:00\n",
       "602773    2018-07-31 17:00:00\n",
       "602774    2018-04-12 17:00:00\n",
       "602775    2018-03-22 17:00:00\n",
       "602776    2018-01-07 16:00:00\n",
       "Name: Timestamp, Length: 602777, dtype: object"
      ]
     },
     "execution_count": 5,
     "metadata": {},
     "output_type": "execute_result"
    }
   ],
   "source": [
    "times"
   ]
  },
  {
   "cell_type": "code",
   "execution_count": 41,
   "id": "7da960f0",
   "metadata": {},
   "outputs": [
    {
     "data": {
      "text/html": [
       "<div>\n",
       "<style scoped>\n",
       "    .dataframe tbody tr th:only-of-type {\n",
       "        vertical-align: middle;\n",
       "    }\n",
       "\n",
       "    .dataframe tbody tr th {\n",
       "        vertical-align: top;\n",
       "    }\n",
       "\n",
       "    .dataframe thead th {\n",
       "        text-align: right;\n",
       "    }\n",
       "</style>\n",
       "<table border=\"1\" class=\"dataframe\">\n",
       "  <thead>\n",
       "    <tr style=\"text-align: right;\">\n",
       "      <th></th>\n",
       "      <th>Item ID</th>\n",
       "      <th>User ID</th>\n",
       "      <th>Rating</th>\n",
       "      <th>Timestamp</th>\n",
       "    </tr>\n",
       "  </thead>\n",
       "  <tbody>\n",
       "    <tr>\n",
       "      <th>474132</th>\n",
       "      <td>B00004X18E</td>\n",
       "      <td>A3MR51MDYU0KXJ</td>\n",
       "      <td>4.0</td>\n",
       "      <td>2000-10-22 17:00:00</td>\n",
       "    </tr>\n",
       "    <tr>\n",
       "      <th>356</th>\n",
       "      <td>B00005OU6T</td>\n",
       "      <td>A1LA5EF74R5L75</td>\n",
       "      <td>4.0</td>\n",
       "      <td>2001-11-07 16:00:00</td>\n",
       "    </tr>\n",
       "    <tr>\n",
       "      <th>595</th>\n",
       "      <td>B00005OU6T</td>\n",
       "      <td>A1HRXDQ7WUWC2Q</td>\n",
       "      <td>1.0</td>\n",
       "      <td>2002-02-06 16:00:00</td>\n",
       "    </tr>\n",
       "    <tr>\n",
       "      <th>1356</th>\n",
       "      <td>B00006JKZX</td>\n",
       "      <td>A265AD454EY8D3</td>\n",
       "      <td>4.0</td>\n",
       "      <td>2003-08-25 17:00:00</td>\n",
       "    </tr>\n",
       "    <tr>\n",
       "      <th>590737</th>\n",
       "      <td>B0000CFF2X</td>\n",
       "      <td>A3GBQXQWIT78SL</td>\n",
       "      <td>2.0</td>\n",
       "      <td>2003-11-29 16:00:00</td>\n",
       "    </tr>\n",
       "    <tr>\n",
       "      <th>...</th>\n",
       "      <td>...</td>\n",
       "      <td>...</td>\n",
       "      <td>...</td>\n",
       "      <td>...</td>\n",
       "    </tr>\n",
       "    <tr>\n",
       "      <th>602583</th>\n",
       "      <td>B01HFCVU9K</td>\n",
       "      <td>A18QU0G79DE8ZV</td>\n",
       "      <td>1.0</td>\n",
       "      <td>2018-10-01 17:00:00</td>\n",
       "    </tr>\n",
       "    <tr>\n",
       "      <th>602110</th>\n",
       "      <td>B01GXOY74Q</td>\n",
       "      <td>A3RE7ALMEFZ2C1</td>\n",
       "      <td>5.0</td>\n",
       "      <td>2018-10-01 17:00:00</td>\n",
       "    </tr>\n",
       "    <tr>\n",
       "      <th>601957</th>\n",
       "      <td>B01GVLWZT0</td>\n",
       "      <td>A7GU6YT10BXEJ</td>\n",
       "      <td>2.0</td>\n",
       "      <td>2018-10-01 17:00:00</td>\n",
       "    </tr>\n",
       "    <tr>\n",
       "      <th>602710</th>\n",
       "      <td>B01HICGMWC</td>\n",
       "      <td>A25UZ9POZ7SFUW</td>\n",
       "      <td>2.0</td>\n",
       "      <td>2018-10-03 17:00:00</td>\n",
       "    </tr>\n",
       "    <tr>\n",
       "      <th>602698</th>\n",
       "      <td>B01HHFUBDQ</td>\n",
       "      <td>A1AEP6FJRNSWY4</td>\n",
       "      <td>5.0</td>\n",
       "      <td>2018-10-03 17:00:00</td>\n",
       "    </tr>\n",
       "  </tbody>\n",
       "</table>\n",
       "<p>602777 rows × 4 columns</p>\n",
       "</div>"
      ],
      "text/plain": [
       "           Item ID         User ID  Rating            Timestamp\n",
       "474132  B00004X18E  A3MR51MDYU0KXJ     4.0  2000-10-22 17:00:00\n",
       "356     B00005OU6T  A1LA5EF74R5L75     4.0  2001-11-07 16:00:00\n",
       "595     B00005OU6T  A1HRXDQ7WUWC2Q     1.0  2002-02-06 16:00:00\n",
       "1356    B00006JKZX  A265AD454EY8D3     4.0  2003-08-25 17:00:00\n",
       "590737  B0000CFF2X  A3GBQXQWIT78SL     2.0  2003-11-29 16:00:00\n",
       "...            ...             ...     ...                  ...\n",
       "602583  B01HFCVU9K  A18QU0G79DE8ZV     1.0  2018-10-01 17:00:00\n",
       "602110  B01GXOY74Q  A3RE7ALMEFZ2C1     5.0  2018-10-01 17:00:00\n",
       "601957  B01GVLWZT0   A7GU6YT10BXEJ     2.0  2018-10-01 17:00:00\n",
       "602710  B01HICGMWC  A25UZ9POZ7SFUW     2.0  2018-10-03 17:00:00\n",
       "602698  B01HHFUBDQ  A1AEP6FJRNSWY4     5.0  2018-10-03 17:00:00\n",
       "\n",
       "[602777 rows x 4 columns]"
      ]
     },
     "execution_count": 41,
     "metadata": {},
     "output_type": "execute_result"
    }
   ],
   "source": [
    "df = df.drop(labels = 'Timestamp', axis = 1)\n",
    "df = pd.concat([df,times], axis = 1)\n",
    "df = df.sort_values('Timestamp')\n",
    "df"
   ]
  },
  {
   "cell_type": "code",
   "execution_count": 64,
   "id": "7c36ffac",
   "metadata": {},
   "outputs": [],
   "source": [
    "def get_five_core_data(directory):\n",
    "    five_core = {}\n",
    "    \n",
    "    # Iterate through the data in the given directory\n",
    "    for subdir, dirs, files in os.walk(directory):\n",
    "\n",
    "        # For each file, get the filename and extract the JSON\n",
    "        for file in files:\n",
    "            filename = str(os.path.join(subdir, file))\n",
    "            five_core_data = []\n",
    "            # Use gzip to open the .gz and extract each line using the normal file package\n",
    "            with gzip.open(filename, \"rb\") as f:\n",
    "                for line in f:\n",
    "                    line = line.decode(encoding='UTF-8')\n",
    "                    json_data = json.loads(line)\n",
    "                    five_core_data.append(json_data)\n",
    "            # Add data to the dict\n",
    "            five_core[filename] = five_core_data\n",
    "           \n",
    "    # Return the dict of complete ratings from each file\n",
    "    return five_core\n",
    "\n",
    "def get_ratings_data(directory):\n",
    "    ratings = {}\n",
    "    col_names = ['Item ID', 'User ID', 'Rating', 'Timestamp']\n",
    "    \n",
    "    # Iterate through the data in the given directory\n",
    "    for subdir, dirs, files in os.walk(directory):\n",
    "\n",
    "        # For each file, get the filename and extract the DF\n",
    "        for file in files:\n",
    "            filename = str(os.path.join(subdir, file))\n",
    "            # Create a DF of the data and add it to the dict\n",
    "            df = pd.read_csv(filename, names = col_names)\n",
    "            times = df['Timestamp']\n",
    "            for i in range(len(times)):\n",
    "                times[i] = datetime.datetime.fromtimestamp(times[i]).date()\n",
    "            df = df.drop(labels = 'Timestamp', axis = 1)\n",
    "            df = pd.concat([df,times], axis = 1)\n",
    "            df = df.sort_values('Timestamp')\n",
    "            ratings[filename] = df\n",
    "           \n",
    "    # Return the dict of complete ratings from each file\n",
    "    return ratings"
   ]
  },
  {
   "cell_type": "code",
   "execution_count": 65,
   "id": "0eb31de5",
   "metadata": {
    "scrolled": true
   },
   "outputs": [],
   "source": [
    "five_core = get_five_core_data('../data/5-core/')"
   ]
  },
  {
   "cell_type": "code",
   "execution_count": 66,
   "id": "953f0529",
   "metadata": {},
   "outputs": [
    {
     "name": "stdout",
     "output_type": "stream",
     "text": [
      "35\n",
      "47\n"
     ]
    },
    {
     "data": {
      "text/plain": [
       "dict_keys(['../data/5-core/Appliances_5.json.gz', '../data/5-core/Magazine_Subscriptions_5.json.gz'])"
      ]
     },
     "execution_count": 66,
     "metadata": {},
     "output_type": "execute_result"
    }
   ],
   "source": [
    "for i in five_core:\n",
    "    print(len(i))\n",
    "five_core.keys()"
   ]
  },
  {
   "cell_type": "code",
   "execution_count": 67,
   "id": "fab7b914",
   "metadata": {},
   "outputs": [
    {
     "data": {
      "text/plain": [
       "dict_keys(['overall', 'verified', 'reviewTime', 'reviewerID', 'asin', 'style', 'reviewerName', 'reviewText', 'summary', 'unixReviewTime'])"
      ]
     },
     "execution_count": 67,
     "metadata": {},
     "output_type": "execute_result"
    }
   ],
   "source": [
    "# Find most frequently used words\n",
    "# get_five_core_data for a relevant dataset -> may want to enable singular datasets\n",
    "# Get keys of 5 core data\n",
    "# Change keys to a list\n",
    "# Get 'reviewText'\n",
    "# Get counts of each word in reviewText and put into dict (there is a lab on this)\n",
    "# Sort dict by values\n",
    "# Show 10 most commonly used words for that dataset\n",
    "five_core[list(five_core.keys())[0]][0].keys()"
   ]
  },
  {
   "cell_type": "code",
   "execution_count": 69,
   "id": "1f181b71",
   "metadata": {},
   "outputs": [],
   "source": [
    "def get_most_used_words(directory):\n",
    "    five_core = get_five_core_data(directory)\n",
    "    five_core_keys = list(five_core.keys())\n",
    "    counts = {}\n",
    "    \n",
    "    for key in five_core_keys:\n",
    "        for i in range(len(five_core[key])):\n",
    "            review_text = five_core[key][i].get('reviewText')\n",
    "            if review_text is not None:\n",
    "                review_words = review_text.split()\n",
    "\n",
    "                for word in review_words:\n",
    "                    lower_word = re.sub(r'[^\\w\\s]', '', word.lower())\n",
    "                    counts[lower_word] = counts.get(lower_word, 0) + 1\n",
    "                    \n",
    "    counts_list = sorted(counts.items(), key=lambda x:x[1])\n",
    "    \n",
    "    return counts_list[-10:]\n",
    "\n",
    "test = get_most_used_words('../data/5-core/')"
   ]
  },
  {
   "cell_type": "code",
   "execution_count": 70,
   "id": "2915176f",
   "metadata": {},
   "outputs": [
    {
     "data": {
      "text/plain": [
       "[('this', 8314),\n",
       " ('in', 9825),\n",
       " ('you', 9991),\n",
       " ('it', 13299),\n",
       " ('of', 14795),\n",
       " ('a', 18373),\n",
       " ('to', 22614),\n",
       " ('i', 22681),\n",
       " ('and', 24479),\n",
       " ('the', 49519)]"
      ]
     },
     "execution_count": 70,
     "metadata": {},
     "output_type": "execute_result"
    }
   ],
   "source": [
    "test"
   ]
  },
  {
   "cell_type": "code",
   "execution_count": 71,
   "id": "3f777923",
   "metadata": {},
   "outputs": [
    {
     "data": {
      "image/png": "[encoded data removed]",
      "text/plain": [
       "<Figure size 432x288 with 1 Axes>"
      ]
     },
     "metadata": {},
     "output_type": "display_data"
    }
   ],
   "source": [
    "# Pie chart of most frequently used words\n",
    "counts = []\n",
    "labels = []\n",
    "for i in range(len(test)):\n",
    "    counts.append(test[i][1])\n",
    "    labels.append(test[i][0])\n",
    "plt.pie(counts, labels = labels)\n",
    "plt.show() "
   ]
  },
  {
   "cell_type": "code",
   "execution_count": 72,
   "id": "119b5939",
   "metadata": {},
   "outputs": [],
   "source": [
    "# Average rating vs Amazon stock price"
   ]
  },
  {
   "cell_type": "code",
   "execution_count": 80,
   "id": "47d5ed56",
   "metadata": {},
   "outputs": [
    {
     "name": "stdout",
     "output_type": "stream",
     "text": [
      "[*********************100%***********************]  1 of 1 completed\n"
     ]
    },
    {
     "data": {
      "text/plain": [
       "DatetimeIndex(['2012-12-10', '2012-12-11', '2012-12-12', '2012-12-13',\n",
       "               '2012-12-14', '2012-12-17', '2012-12-18', '2012-12-19',\n",
       "               '2012-12-20', '2012-12-21',\n",
       "               ...\n",
       "               '2022-11-28', '2022-11-29', '2022-11-30', '2022-12-01',\n",
       "               '2022-12-02', '2022-12-05', '2022-12-06', '2022-12-07',\n",
       "               '2022-12-08', '2022-12-09'],\n",
       "              dtype='datetime64[ns]', name='Date', length=2519, freq=None)"
      ]
     },
     "execution_count": 80,
     "metadata": {},
     "output_type": "execute_result"
    }
   ],
   "source": [
    "# Average rating over time\n",
    "# Stock price over time\n",
    "\n",
    "AMZN = yf.download(tickers = 'AMZN', period = '10Y', interval = '1d')\n",
    "ratings = get_ratings_data('../data/ratings/')\n",
    "ratings_keys = list(ratings.keys())\n",
    "AMZN.index"
   ]
  },
  {
   "cell_type": "code",
   "execution_count": 74,
   "id": "df440744",
   "metadata": {},
   "outputs": [
    {
     "data": {
      "text/html": [
       "<div>\n",
       "<style scoped>\n",
       "    .dataframe tbody tr th:only-of-type {\n",
       "        vertical-align: middle;\n",
       "    }\n",
       "\n",
       "    .dataframe tbody tr th {\n",
       "        vertical-align: top;\n",
       "    }\n",
       "\n",
       "    .dataframe thead th {\n",
       "        text-align: right;\n",
       "    }\n",
       "</style>\n",
       "<table border=\"1\" class=\"dataframe\">\n",
       "  <thead>\n",
       "    <tr style=\"text-align: right;\">\n",
       "      <th></th>\n",
       "      <th>Item ID</th>\n",
       "      <th>User ID</th>\n",
       "      <th>Rating</th>\n",
       "      <th>Timestamp</th>\n",
       "    </tr>\n",
       "  </thead>\n",
       "  <tbody>\n",
       "    <tr>\n",
       "      <th>16558</th>\n",
       "      <td>B00005N7VP</td>\n",
       "      <td>A2B8GXSCB1R05T</td>\n",
       "      <td>5.0</td>\n",
       "      <td>2001-10-25</td>\n",
       "    </tr>\n",
       "    <tr>\n",
       "      <th>23453</th>\n",
       "      <td>B00005NIOA</td>\n",
       "      <td>A2JBXFYTC8W8VY</td>\n",
       "      <td>4.0</td>\n",
       "      <td>2001-10-25</td>\n",
       "    </tr>\n",
       "    <tr>\n",
       "      <th>23454</th>\n",
       "      <td>B00005NIOA</td>\n",
       "      <td>A16G8RXC8UDBJZ</td>\n",
       "      <td>5.0</td>\n",
       "      <td>2001-10-25</td>\n",
       "    </tr>\n",
       "    <tr>\n",
       "      <th>16118</th>\n",
       "      <td>B00005N7QJ</td>\n",
       "      <td>A3P3TOKPHYAA5Q</td>\n",
       "      <td>4.0</td>\n",
       "      <td>2001-10-25</td>\n",
       "    </tr>\n",
       "    <tr>\n",
       "      <th>24197</th>\n",
       "      <td>B00005NIPI</td>\n",
       "      <td>A2EZX9HBOINY8G</td>\n",
       "      <td>4.0</td>\n",
       "      <td>2001-10-25</td>\n",
       "    </tr>\n",
       "    <tr>\n",
       "      <th>...</th>\n",
       "      <td>...</td>\n",
       "      <td>...</td>\n",
       "      <td>...</td>\n",
       "      <td>...</td>\n",
       "    </tr>\n",
       "    <tr>\n",
       "      <th>89268</th>\n",
       "      <td>B01CF3ECNK</td>\n",
       "      <td>A3C99BDDEK6RSD</td>\n",
       "      <td>2.0</td>\n",
       "      <td>2018-09-11</td>\n",
       "    </tr>\n",
       "    <tr>\n",
       "      <th>89537</th>\n",
       "      <td>B01F2MKW0I</td>\n",
       "      <td>A2DVJSVEKN34C5</td>\n",
       "      <td>5.0</td>\n",
       "      <td>2018-09-12</td>\n",
       "    </tr>\n",
       "    <tr>\n",
       "      <th>89267</th>\n",
       "      <td>B01CF3ECNK</td>\n",
       "      <td>A2TOSPPTRAAMFN</td>\n",
       "      <td>2.0</td>\n",
       "      <td>2018-09-12</td>\n",
       "    </tr>\n",
       "    <tr>\n",
       "      <th>89266</th>\n",
       "      <td>B01CF3ECNK</td>\n",
       "      <td>A38SMHC969ZQP7</td>\n",
       "      <td>5.0</td>\n",
       "      <td>2018-09-13</td>\n",
       "    </tr>\n",
       "    <tr>\n",
       "      <th>89265</th>\n",
       "      <td>B01CF3ECNK</td>\n",
       "      <td>A3P8Q1I4XT3BYO</td>\n",
       "      <td>5.0</td>\n",
       "      <td>2018-09-18</td>\n",
       "    </tr>\n",
       "  </tbody>\n",
       "</table>\n",
       "<p>89689 rows × 4 columns</p>\n",
       "</div>"
      ],
      "text/plain": [
       "          Item ID         User ID  Rating   Timestamp\n",
       "16558  B00005N7VP  A2B8GXSCB1R05T     5.0  2001-10-25\n",
       "23453  B00005NIOA  A2JBXFYTC8W8VY     4.0  2001-10-25\n",
       "23454  B00005NIOA  A16G8RXC8UDBJZ     5.0  2001-10-25\n",
       "16118  B00005N7QJ  A3P3TOKPHYAA5Q     4.0  2001-10-25\n",
       "24197  B00005NIPI  A2EZX9HBOINY8G     4.0  2001-10-25\n",
       "...           ...             ...     ...         ...\n",
       "89268  B01CF3ECNK  A3C99BDDEK6RSD     2.0  2018-09-11\n",
       "89537  B01F2MKW0I  A2DVJSVEKN34C5     5.0  2018-09-12\n",
       "89267  B01CF3ECNK  A2TOSPPTRAAMFN     2.0  2018-09-12\n",
       "89266  B01CF3ECNK  A38SMHC969ZQP7     5.0  2018-09-13\n",
       "89265  B01CF3ECNK  A3P8Q1I4XT3BYO     5.0  2018-09-18\n",
       "\n",
       "[89689 rows x 4 columns]"
      ]
     },
     "execution_count": 74,
     "metadata": {},
     "output_type": "execute_result"
    }
   ],
   "source": [
    "ratings[ratings_keys[0]]"
   ]
  },
  {
   "cell_type": "code",
   "execution_count": 81,
   "id": "947b4a46",
   "metadata": {},
   "outputs": [
    {
     "data": {
      "text/plain": [
       "16558    2001-10-25\n",
       "23453    2001-10-25\n",
       "23454    2001-10-25\n",
       "16118    2001-10-25\n",
       "24197    2001-10-25\n",
       "            ...    \n",
       "89268    2018-09-11\n",
       "89537    2018-09-12\n",
       "89267    2018-09-12\n",
       "89266    2018-09-13\n",
       "89265    2018-09-18\n",
       "Name: Timestamp, Length: 89689, dtype: object"
      ]
     },
     "execution_count": 81,
     "metadata": {},
     "output_type": "execute_result"
    }
   ],
   "source": [
    "ratings[ratings_keys[0]]['Timestamp']"
   ]
  },
  {
   "cell_type": "code",
   "execution_count": 82,
   "id": "6fbe5b14",
   "metadata": {},
   "outputs": [
    {
     "data": {
      "text/plain": [
       "<AxesSubplot:xlabel='Date'>"
      ]
     },
     "execution_count": 82,
     "metadata": {},
     "output_type": "execute_result"
    },
    {
     "data": {
      "image/png": "[encoded data removed]",
      "text/plain": [
       "<Figure size 432x288 with 1 Axes>"
      ]
     },
     "metadata": {
      "needs_background": "light"
     },
     "output_type": "display_data"
    }
   ],
   "source": [
    "# Linear regression of stock price over time\n",
    "AMZN['Adj Close'].plot()"
   ]
  },
  {
   "cell_type": "code",
   "execution_count": 84,
   "id": "e3e4b840",
   "metadata": {},
   "outputs": [
    {
     "data": {
      "text/plain": [
       "<AxesSubplot:>"
      ]
     },
     "execution_count": 84,
     "metadata": {},
     "output_type": "execute_result"
    },
    {
     "data": {
      "image/png": "[encoded data removed]",
      "text/plain": [
       "<Figure size 432x288 with 1 Axes>"
      ]
     },
     "metadata": {
      "needs_background": "light"
     },
     "output_type": "display_data"
    }
   ],
   "source": [
    "ratings[ratings_keys[0]]['Rating'].plot()"
   ]
  },
  {
   "cell_type": "code",
   "execution_count": null,
   "id": "add631a3",
   "metadata": {},
   "outputs": [],
   "source": []
  }
 ],
 "metadata": {
  "kernelspec": {
   "display_name": "Python 3 (ipykernel)",
   "language": "python",
   "name": "python3"
  },
  "language_info": {
   "codemirror_mode": {
    "name": "ipython",
    "version": 3
   },
   "file_extension": ".py",
   "mimetype": "text/x-python",
   "name": "python",
   "nbconvert_exporter": "python",
   "pygments_lexer": "ipython3",
   "version": "3.9.12"
  }
 },
 "nbformat": 4,
 "nbformat_minor": 5
}
