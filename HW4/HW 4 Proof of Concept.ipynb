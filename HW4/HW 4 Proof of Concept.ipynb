{
 "cells": [
  {
   "cell_type": "code",
   "execution_count": 1,
   "id": "ff7071ea",
   "metadata": {},
   "outputs": [],
   "source": [
    "import seaborn as sns\n",
    "import matplotlib.pyplot as plt\n",
    "import pandas as pd\n",
    "import datetime\n",
    "import yfinance as yf\n",
    "import pandas as pd\n",
    "import os\n",
    "import json\n",
    "import gzip\n",
    "import re\n",
    "import matplotlib.pyplot as plt\n",
    "import numpy as np\n",
    "\n",
    "pd.options.mode.chained_assignment = None  # default='warn'"
   ]
  },
  {
   "cell_type": "code",
   "execution_count": 2,
   "id": "78ded8e8",
   "metadata": {},
   "outputs": [],
   "source": [
    "data = '../data/ratings/Appliances.csv'\n",
    "\n",
    "col_names = ['Item ID', 'User ID', 'Rating', 'Timestamp']\n",
    "\n",
    "df = pd.read_csv(data, names = col_names)"
   ]
  },
  {
   "cell_type": "code",
   "execution_count": 3,
   "id": "e2fef724",
   "metadata": {},
   "outputs": [
    {
     "data": {
      "text/html": [
       "<div>\n",
       "<style scoped>\n",
       "    .dataframe tbody tr th:only-of-type {\n",
       "        vertical-align: middle;\n",
       "    }\n",
       "\n",
       "    .dataframe tbody tr th {\n",
       "        vertical-align: top;\n",
       "    }\n",
       "\n",
       "    .dataframe thead th {\n",
       "        text-align: right;\n",
       "    }\n",
       "</style>\n",
       "<table border=\"1\" class=\"dataframe\">\n",
       "  <thead>\n",
       "    <tr style=\"text-align: right;\">\n",
       "      <th></th>\n",
       "      <th>Item ID</th>\n",
       "      <th>User ID</th>\n",
       "      <th>Rating</th>\n",
       "      <th>Timestamp</th>\n",
       "    </tr>\n",
       "  </thead>\n",
       "  <tbody>\n",
       "    <tr>\n",
       "      <th>0</th>\n",
       "      <td>1118461304</td>\n",
       "      <td>A3NHUQ33CFH3VM</td>\n",
       "      <td>5.0</td>\n",
       "      <td>1385510400</td>\n",
       "    </tr>\n",
       "    <tr>\n",
       "      <th>1</th>\n",
       "      <td>1118461304</td>\n",
       "      <td>A3SK6VNBQDNBJE</td>\n",
       "      <td>5.0</td>\n",
       "      <td>1383264000</td>\n",
       "    </tr>\n",
       "    <tr>\n",
       "      <th>2</th>\n",
       "      <td>1118461304</td>\n",
       "      <td>A3SOFHUR27FO3K</td>\n",
       "      <td>5.0</td>\n",
       "      <td>1381363200</td>\n",
       "    </tr>\n",
       "    <tr>\n",
       "      <th>3</th>\n",
       "      <td>1118461304</td>\n",
       "      <td>A1HOG1PYCAE157</td>\n",
       "      <td>5.0</td>\n",
       "      <td>1381276800</td>\n",
       "    </tr>\n",
       "    <tr>\n",
       "      <th>4</th>\n",
       "      <td>1118461304</td>\n",
       "      <td>A26JGAM6GZMM4V</td>\n",
       "      <td>5.0</td>\n",
       "      <td>1378512000</td>\n",
       "    </tr>\n",
       "    <tr>\n",
       "      <th>...</th>\n",
       "      <td>...</td>\n",
       "      <td>...</td>\n",
       "      <td>...</td>\n",
       "      <td>...</td>\n",
       "    </tr>\n",
       "    <tr>\n",
       "      <th>602772</th>\n",
       "      <td>B01HJH2PY0</td>\n",
       "      <td>A24A9P4F2SLTK5</td>\n",
       "      <td>5.0</td>\n",
       "      <td>1502323200</td>\n",
       "    </tr>\n",
       "    <tr>\n",
       "      <th>602773</th>\n",
       "      <td>B01HJHHEA0</td>\n",
       "      <td>A2JCB4KHBWEELW</td>\n",
       "      <td>2.0</td>\n",
       "      <td>1533081600</td>\n",
       "    </tr>\n",
       "    <tr>\n",
       "      <th>602774</th>\n",
       "      <td>B01HJHHEA0</td>\n",
       "      <td>A1LDYYVTLPP2Z5</td>\n",
       "      <td>5.0</td>\n",
       "      <td>1523577600</td>\n",
       "    </tr>\n",
       "    <tr>\n",
       "      <th>602775</th>\n",
       "      <td>B01HJH92JQ</td>\n",
       "      <td>AP1M5O06IOYZ7</td>\n",
       "      <td>1.0</td>\n",
       "      <td>1521763200</td>\n",
       "    </tr>\n",
       "    <tr>\n",
       "      <th>602776</th>\n",
       "      <td>B01HJH92JQ</td>\n",
       "      <td>A1BU98NV4Y0P9K</td>\n",
       "      <td>3.0</td>\n",
       "      <td>1515369600</td>\n",
       "    </tr>\n",
       "  </tbody>\n",
       "</table>\n",
       "<p>602777 rows × 4 columns</p>\n",
       "</div>"
      ],
      "text/plain": [
       "           Item ID         User ID  Rating   Timestamp\n",
       "0       1118461304  A3NHUQ33CFH3VM     5.0  1385510400\n",
       "1       1118461304  A3SK6VNBQDNBJE     5.0  1383264000\n",
       "2       1118461304  A3SOFHUR27FO3K     5.0  1381363200\n",
       "3       1118461304  A1HOG1PYCAE157     5.0  1381276800\n",
       "4       1118461304  A26JGAM6GZMM4V     5.0  1378512000\n",
       "...            ...             ...     ...         ...\n",
       "602772  B01HJH2PY0  A24A9P4F2SLTK5     5.0  1502323200\n",
       "602773  B01HJHHEA0  A2JCB4KHBWEELW     2.0  1533081600\n",
       "602774  B01HJHHEA0  A1LDYYVTLPP2Z5     5.0  1523577600\n",
       "602775  B01HJH92JQ   AP1M5O06IOYZ7     1.0  1521763200\n",
       "602776  B01HJH92JQ  A1BU98NV4Y0P9K     3.0  1515369600\n",
       "\n",
       "[602777 rows x 4 columns]"
      ]
     },
     "execution_count": 3,
     "metadata": {},
     "output_type": "execute_result"
    }
   ],
   "source": [
    "df"
   ]
  },
  {
   "cell_type": "code",
   "execution_count": 4,
   "id": "dc905a99",
   "metadata": {},
   "outputs": [
    {
     "name": "stdout",
     "output_type": "stream",
     "text": [
      "602777\n"
     ]
    }
   ],
   "source": [
    "times = df['Timestamp']\n",
    "\n",
    "print(len(times))\n",
    "\n",
    "for i in range(len(times)):\n",
    "    times[i] = datetime.datetime.fromtimestamp(times[i]) # This will give a warning, but does do what I need it to\n",
    "    # times.replace(times[i], datetime.datetime.fromtimestamp(times[i]))"
   ]
  },
  {
   "cell_type": "code",
   "execution_count": 5,
   "id": "c43eb176",
   "metadata": {},
   "outputs": [
    {
     "data": {
      "text/plain": [
       "0         2013-11-26 16:00:00\n",
       "1         2013-10-31 17:00:00\n",
       "2         2013-10-09 17:00:00\n",
       "3         2013-10-08 17:00:00\n",
       "4         2013-09-06 17:00:00\n",
       "                 ...         \n",
       "602772    2017-08-09 17:00:00\n",
       "602773    2018-07-31 17:00:00\n",
       "602774    2018-04-12 17:00:00\n",
       "602775    2018-03-22 17:00:00\n",
       "602776    2018-01-07 16:00:00\n",
       "Name: Timestamp, Length: 602777, dtype: object"
      ]
     },
     "execution_count": 5,
     "metadata": {},
     "output_type": "execute_result"
    }
   ],
   "source": [
    "times"
   ]
  },
  {
   "cell_type": "code",
   "execution_count": 6,
   "id": "7da960f0",
   "metadata": {},
   "outputs": [
    {
     "data": {
      "text/html": [
       "<div>\n",
       "<style scoped>\n",
       "    .dataframe tbody tr th:only-of-type {\n",
       "        vertical-align: middle;\n",
       "    }\n",
       "\n",
       "    .dataframe tbody tr th {\n",
       "        vertical-align: top;\n",
       "    }\n",
       "\n",
       "    .dataframe thead th {\n",
       "        text-align: right;\n",
       "    }\n",
       "</style>\n",
       "<table border=\"1\" class=\"dataframe\">\n",
       "  <thead>\n",
       "    <tr style=\"text-align: right;\">\n",
       "      <th></th>\n",
       "      <th>Item ID</th>\n",
       "      <th>User ID</th>\n",
       "      <th>Rating</th>\n",
       "      <th>Timestamp</th>\n",
       "    </tr>\n",
       "  </thead>\n",
       "  <tbody>\n",
       "    <tr>\n",
       "      <th>474132</th>\n",
       "      <td>B00004X18E</td>\n",
       "      <td>A3MR51MDYU0KXJ</td>\n",
       "      <td>4.0</td>\n",
       "      <td>2000-10-22 17:00:00</td>\n",
       "    </tr>\n",
       "    <tr>\n",
       "      <th>356</th>\n",
       "      <td>B00005OU6T</td>\n",
       "      <td>A1LA5EF74R5L75</td>\n",
       "      <td>4.0</td>\n",
       "      <td>2001-11-07 16:00:00</td>\n",
       "    </tr>\n",
       "    <tr>\n",
       "      <th>595</th>\n",
       "      <td>B00005OU6T</td>\n",
       "      <td>A1HRXDQ7WUWC2Q</td>\n",
       "      <td>1.0</td>\n",
       "      <td>2002-02-06 16:00:00</td>\n",
       "    </tr>\n",
       "    <tr>\n",
       "      <th>1356</th>\n",
       "      <td>B00006JKZX</td>\n",
       "      <td>A265AD454EY8D3</td>\n",
       "      <td>4.0</td>\n",
       "      <td>2003-08-25 17:00:00</td>\n",
       "    </tr>\n",
       "    <tr>\n",
       "      <th>590737</th>\n",
       "      <td>B0000CFF2X</td>\n",
       "      <td>A3GBQXQWIT78SL</td>\n",
       "      <td>2.0</td>\n",
       "      <td>2003-11-29 16:00:00</td>\n",
       "    </tr>\n",
       "    <tr>\n",
       "      <th>...</th>\n",
       "      <td>...</td>\n",
       "      <td>...</td>\n",
       "      <td>...</td>\n",
       "      <td>...</td>\n",
       "    </tr>\n",
       "    <tr>\n",
       "      <th>602583</th>\n",
       "      <td>B01HFCVU9K</td>\n",
       "      <td>A18QU0G79DE8ZV</td>\n",
       "      <td>1.0</td>\n",
       "      <td>2018-10-01 17:00:00</td>\n",
       "    </tr>\n",
       "    <tr>\n",
       "      <th>602110</th>\n",
       "      <td>B01GXOY74Q</td>\n",
       "      <td>A3RE7ALMEFZ2C1</td>\n",
       "      <td>5.0</td>\n",
       "      <td>2018-10-01 17:00:00</td>\n",
       "    </tr>\n",
       "    <tr>\n",
       "      <th>601957</th>\n",
       "      <td>B01GVLWZT0</td>\n",
       "      <td>A7GU6YT10BXEJ</td>\n",
       "      <td>2.0</td>\n",
       "      <td>2018-10-01 17:00:00</td>\n",
       "    </tr>\n",
       "    <tr>\n",
       "      <th>602710</th>\n",
       "      <td>B01HICGMWC</td>\n",
       "      <td>A25UZ9POZ7SFUW</td>\n",
       "      <td>2.0</td>\n",
       "      <td>2018-10-03 17:00:00</td>\n",
       "    </tr>\n",
       "    <tr>\n",
       "      <th>602698</th>\n",
       "      <td>B01HHFUBDQ</td>\n",
       "      <td>A1AEP6FJRNSWY4</td>\n",
       "      <td>5.0</td>\n",
       "      <td>2018-10-03 17:00:00</td>\n",
       "    </tr>\n",
       "  </tbody>\n",
       "</table>\n",
       "<p>602777 rows × 4 columns</p>\n",
       "</div>"
      ],
      "text/plain": [
       "           Item ID         User ID  Rating            Timestamp\n",
       "474132  B00004X18E  A3MR51MDYU0KXJ     4.0  2000-10-22 17:00:00\n",
       "356     B00005OU6T  A1LA5EF74R5L75     4.0  2001-11-07 16:00:00\n",
       "595     B00005OU6T  A1HRXDQ7WUWC2Q     1.0  2002-02-06 16:00:00\n",
       "1356    B00006JKZX  A265AD454EY8D3     4.0  2003-08-25 17:00:00\n",
       "590737  B0000CFF2X  A3GBQXQWIT78SL     2.0  2003-11-29 16:00:00\n",
       "...            ...             ...     ...                  ...\n",
       "602583  B01HFCVU9K  A18QU0G79DE8ZV     1.0  2018-10-01 17:00:00\n",
       "602110  B01GXOY74Q  A3RE7ALMEFZ2C1     5.0  2018-10-01 17:00:00\n",
       "601957  B01GVLWZT0   A7GU6YT10BXEJ     2.0  2018-10-01 17:00:00\n",
       "602710  B01HICGMWC  A25UZ9POZ7SFUW     2.0  2018-10-03 17:00:00\n",
       "602698  B01HHFUBDQ  A1AEP6FJRNSWY4     5.0  2018-10-03 17:00:00\n",
       "\n",
       "[602777 rows x 4 columns]"
      ]
     },
     "execution_count": 6,
     "metadata": {},
     "output_type": "execute_result"
    }
   ],
   "source": [
    "df = df.drop(labels = 'Timestamp', axis = 1)\n",
    "df = pd.concat([df,times], axis = 1)\n",
    "df = df.sort_values('Timestamp')\n",
    "df"
   ]
  },
  {
   "cell_type": "code",
   "execution_count": 7,
   "id": "7c36ffac",
   "metadata": {},
   "outputs": [],
   "source": [
    "def get_five_core_data(directory):\n",
    "    five_core = {}\n",
    "    \n",
    "    # Iterate through the data in the given directory\n",
    "    for subdir, dirs, files in os.walk(directory):\n",
    "\n",
    "        # For each file, get the filename and extract the JSON\n",
    "        for file in files:\n",
    "            filename = str(os.path.join(subdir, file))\n",
    "            five_core_data = []\n",
    "            # Use gzip to open the .gz and extract each line using the normal file package\n",
    "            with gzip.open(filename, \"rb\") as f:\n",
    "                for line in f:\n",
    "                    line = line.decode(encoding='UTF-8')\n",
    "                    json_data = json.loads(line)\n",
    "                    five_core_data.append(json_data)\n",
    "            # Add data to the dict\n",
    "            five_core[filename] = five_core_data\n",
    "           \n",
    "    # Return the dict of complete ratings from each file\n",
    "    return five_core\n",
    "\n",
    "def get_ratings_data(directory):\n",
    "    ratings = {}\n",
    "    col_names = ['Item ID', 'User ID', 'Rating', 'Timestamp']\n",
    "    \n",
    "    # Iterate through the data in the given directory\n",
    "    for subdir, dirs, files in os.walk(directory):\n",
    "\n",
    "        # For each file, get the filename and extract the DF\n",
    "        for file in files:\n",
    "            filename = str(os.path.join(subdir, file))\n",
    "            # Create a DF of the data and add it to the dict\n",
    "            df = pd.read_csv(filename, names = col_names)\n",
    "            times = df['Timestamp']\n",
    "            for i in range(len(times)):\n",
    "                times[i] = datetime.datetime.fromtimestamp(times[i]).date()\n",
    "            df = df.drop(labels = 'Timestamp', axis = 1)\n",
    "            df = pd.concat([df,times], axis = 1)\n",
    "            df = df.sort_values('Timestamp')\n",
    "            ratings[filename] = df\n",
    "           \n",
    "    # Return the dict of complete ratings from each file\n",
    "    return ratings"
   ]
  },
  {
   "cell_type": "code",
   "execution_count": 8,
   "id": "0eb31de5",
   "metadata": {
    "scrolled": true
   },
   "outputs": [],
   "source": [
    "five_core = get_five_core_data('../data/5-core/')"
   ]
  },
  {
   "cell_type": "code",
   "execution_count": 9,
   "id": "953f0529",
   "metadata": {},
   "outputs": [
    {
     "name": "stdout",
     "output_type": "stream",
     "text": [
      "47\n",
      "35\n"
     ]
    },
    {
     "data": {
      "text/plain": [
       "dict_keys(['../data/5-core/Magazine_Subscriptions_5.json.gz', '../data/5-core/Appliances_5.json.gz'])"
      ]
     },
     "execution_count": 9,
     "metadata": {},
     "output_type": "execute_result"
    }
   ],
   "source": [
    "for i in five_core:\n",
    "    print(len(i))\n",
    "five_core.keys()"
   ]
  },
  {
   "cell_type": "code",
   "execution_count": 10,
   "id": "fab7b914",
   "metadata": {},
   "outputs": [
    {
     "data": {
      "text/plain": [
       "dict_keys(['overall', 'verified', 'reviewTime', 'reviewerID', 'asin', 'reviewerName', 'reviewText', 'summary', 'unixReviewTime'])"
      ]
     },
     "execution_count": 10,
     "metadata": {},
     "output_type": "execute_result"
    }
   ],
   "source": [
    "# Find most frequently used words\n",
    "# get_five_core_data for a relevant dataset -> may want to enable singular datasets\n",
    "# Get keys of 5 core data\n",
    "# Change keys to a list\n",
    "# Get 'reviewText'\n",
    "# Get counts of each word in reviewText and put into dict (there is a lab on this)\n",
    "# Sort dict by values\n",
    "# Show 10 most commonly used words for that dataset\n",
    "five_core[list(five_core.keys())[0]][0].keys()"
   ]
  },
  {
   "cell_type": "code",
   "execution_count": 11,
   "id": "1f181b71",
   "metadata": {},
   "outputs": [],
   "source": [
    "def get_most_used_words(directory):\n",
    "    five_core = get_five_core_data(directory)\n",
    "    five_core_keys = list(five_core.keys())\n",
    "    counts = {}\n",
    "    \n",
    "    for key in five_core_keys:\n",
    "        for i in range(len(five_core[key])):\n",
    "            review_text = five_core[key][i].get('reviewText')\n",
    "            if review_text is not None:\n",
    "                review_words = review_text.split()\n",
    "\n",
    "                for word in review_words:\n",
    "                    lower_word = re.sub(r'[^\\w\\s]', '', word.lower())\n",
    "                    counts[lower_word] = counts.get(lower_word, 0) + 1\n",
    "                    \n",
    "    counts_list = sorted(counts.items(), key=lambda x:x[1])\n",
    "    \n",
    "    return counts_list[-10:]\n",
    "\n",
    "test = get_most_used_words('../data/5-core/')"
   ]
  },
  {
   "cell_type": "code",
   "execution_count": 12,
   "id": "2915176f",
   "metadata": {},
   "outputs": [
    {
     "data": {
      "text/plain": [
       "[('this', 8314),\n",
       " ('in', 9825),\n",
       " ('you', 9991),\n",
       " ('it', 13299),\n",
       " ('of', 14795),\n",
       " ('a', 18373),\n",
       " ('to', 22614),\n",
       " ('i', 22681),\n",
       " ('and', 24479),\n",
       " ('the', 49519)]"
      ]
     },
     "execution_count": 12,
     "metadata": {},
     "output_type": "execute_result"
    }
   ],
   "source": [
    "test"
   ]
  },
  {
   "cell_type": "code",
   "execution_count": 13,
   "id": "3f777923",
   "metadata": {},
   "outputs": [
    {
     "data": {
      "image/png": "[encoded data removed]",
      "text/plain": [
       "<Figure size 720x720 with 1 Axes>"
      ]
     },
     "metadata": {},
     "output_type": "display_data"
    }
   ],
   "source": [
    "# Pie chart of most frequently used words\n",
    "counts = []\n",
    "labels = []\n",
    "for i in range(len(test)):\n",
    "    counts.append(test[i][1])\n",
    "    labels.append(test[i][0])\n",
    "\n",
    "plt.figure(figsize=(10, 10))\n",
    "plt.pie(counts, labels = labels)\n",
    "plt.legend()\n",
    "plt.show() "
   ]
  },
  {
   "cell_type": "code",
   "execution_count": 14,
   "id": "119b5939",
   "metadata": {},
   "outputs": [],
   "source": [
    "# Average rating vs Amazon stock price"
   ]
  },
  {
   "cell_type": "code",
   "execution_count": 15,
   "id": "47d5ed56",
   "metadata": {},
   "outputs": [
    {
     "name": "stdout",
     "output_type": "stream",
     "text": [
      "[*********************100%***********************]  1 of 1 completed\n",
      "[*********************100%***********************]  1 of 1 completed\n"
     ]
    },
    {
     "data": {
      "text/html": [
       "<div>\n",
       "<style scoped>\n",
       "    .dataframe tbody tr th:only-of-type {\n",
       "        vertical-align: middle;\n",
       "    }\n",
       "\n",
       "    .dataframe tbody tr th {\n",
       "        vertical-align: top;\n",
       "    }\n",
       "\n",
       "    .dataframe thead th {\n",
       "        text-align: right;\n",
       "    }\n",
       "</style>\n",
       "<table border=\"1\" class=\"dataframe\">\n",
       "  <thead>\n",
       "    <tr style=\"text-align: right;\">\n",
       "      <th></th>\n",
       "      <th>Open</th>\n",
       "      <th>High</th>\n",
       "      <th>Low</th>\n",
       "      <th>Close</th>\n",
       "      <th>Adj Close</th>\n",
       "      <th>Volume</th>\n",
       "    </tr>\n",
       "    <tr>\n",
       "      <th>Date</th>\n",
       "      <th></th>\n",
       "      <th></th>\n",
       "      <th></th>\n",
       "      <th></th>\n",
       "      <th></th>\n",
       "      <th></th>\n",
       "    </tr>\n",
       "  </thead>\n",
       "  <tbody>\n",
       "    <tr>\n",
       "      <th>2012-12-14</th>\n",
       "      <td>12.505500</td>\n",
       "      <td>12.595000</td>\n",
       "      <td>12.389500</td>\n",
       "      <td>12.459500</td>\n",
       "      <td>12.459500</td>\n",
       "      <td>50538000</td>\n",
       "    </tr>\n",
       "    <tr>\n",
       "      <th>2012-12-17</th>\n",
       "      <td>12.490500</td>\n",
       "      <td>12.700000</td>\n",
       "      <td>12.463000</td>\n",
       "      <td>12.693000</td>\n",
       "      <td>12.693000</td>\n",
       "      <td>45540000</td>\n",
       "    </tr>\n",
       "    <tr>\n",
       "      <th>2012-12-18</th>\n",
       "      <td>12.728500</td>\n",
       "      <td>13.155500</td>\n",
       "      <td>12.728500</td>\n",
       "      <td>13.020000</td>\n",
       "      <td>13.020000</td>\n",
       "      <td>99220000</td>\n",
       "    </tr>\n",
       "    <tr>\n",
       "      <th>2012-12-19</th>\n",
       "      <td>13.065000</td>\n",
       "      <td>13.083500</td>\n",
       "      <td>12.884000</td>\n",
       "      <td>12.899500</td>\n",
       "      <td>12.899500</td>\n",
       "      <td>46000000</td>\n",
       "    </tr>\n",
       "    <tr>\n",
       "      <th>2012-12-20</th>\n",
       "      <td>12.918000</td>\n",
       "      <td>13.120500</td>\n",
       "      <td>12.827000</td>\n",
       "      <td>13.075000</td>\n",
       "      <td>13.075000</td>\n",
       "      <td>51692000</td>\n",
       "    </tr>\n",
       "    <tr>\n",
       "      <th>...</th>\n",
       "      <td>...</td>\n",
       "      <td>...</td>\n",
       "      <td>...</td>\n",
       "      <td>...</td>\n",
       "      <td>...</td>\n",
       "      <td>...</td>\n",
       "    </tr>\n",
       "    <tr>\n",
       "      <th>2022-12-07</th>\n",
       "      <td>88.339996</td>\n",
       "      <td>89.889999</td>\n",
       "      <td>87.480003</td>\n",
       "      <td>88.459999</td>\n",
       "      <td>88.459999</td>\n",
       "      <td>68086900</td>\n",
       "    </tr>\n",
       "    <tr>\n",
       "      <th>2022-12-08</th>\n",
       "      <td>89.239998</td>\n",
       "      <td>90.860001</td>\n",
       "      <td>87.879997</td>\n",
       "      <td>90.349998</td>\n",
       "      <td>90.349998</td>\n",
       "      <td>73305900</td>\n",
       "    </tr>\n",
       "    <tr>\n",
       "      <th>2022-12-09</th>\n",
       "      <td>88.900002</td>\n",
       "      <td>90.300003</td>\n",
       "      <td>88.629997</td>\n",
       "      <td>89.089996</td>\n",
       "      <td>89.089996</td>\n",
       "      <td>67316900</td>\n",
       "    </tr>\n",
       "    <tr>\n",
       "      <th>2022-12-12</th>\n",
       "      <td>89.209999</td>\n",
       "      <td>90.580002</td>\n",
       "      <td>87.870003</td>\n",
       "      <td>90.550003</td>\n",
       "      <td>90.550003</td>\n",
       "      <td>61999800</td>\n",
       "    </tr>\n",
       "    <tr>\n",
       "      <th>2022-12-13</th>\n",
       "      <td>95.230003</td>\n",
       "      <td>96.245003</td>\n",
       "      <td>90.519997</td>\n",
       "      <td>92.489998</td>\n",
       "      <td>92.489998</td>\n",
       "      <td>93383486</td>\n",
       "    </tr>\n",
       "  </tbody>\n",
       "</table>\n",
       "<p>2517 rows × 6 columns</p>\n",
       "</div>"
      ],
      "text/plain": [
       "                 Open       High        Low      Close  Adj Close    Volume\n",
       "Date                                                                       \n",
       "2012-12-14  12.505500  12.595000  12.389500  12.459500  12.459500  50538000\n",
       "2012-12-17  12.490500  12.700000  12.463000  12.693000  12.693000  45540000\n",
       "2012-12-18  12.728500  13.155500  12.728500  13.020000  13.020000  99220000\n",
       "2012-12-19  13.065000  13.083500  12.884000  12.899500  12.899500  46000000\n",
       "2012-12-20  12.918000  13.120500  12.827000  13.075000  13.075000  51692000\n",
       "...               ...        ...        ...        ...        ...       ...\n",
       "2022-12-07  88.339996  89.889999  87.480003  88.459999  88.459999  68086900\n",
       "2022-12-08  89.239998  90.860001  87.879997  90.349998  90.349998  73305900\n",
       "2022-12-09  88.900002  90.300003  88.629997  89.089996  89.089996  67316900\n",
       "2022-12-12  89.209999  90.580002  87.870003  90.550003  90.550003  61999800\n",
       "2022-12-13  95.230003  96.245003  90.519997  92.489998  92.489998  93383486\n",
       "\n",
       "[2517 rows x 6 columns]"
      ]
     },
     "execution_count": 15,
     "metadata": {},
     "output_type": "execute_result"
    }
   ],
   "source": [
    "# Average rating over time\n",
    "# Stock price over time\n",
    "\n",
    "AMZN = yf.download(tickers = 'AMZN', period = '10Y', interval = '1d')\n",
    "AAPL = yf.download(tickers = 'AAPL', period = '10Y', interval = '1d')\n",
    "ratings = get_ratings_data('../data/ratings/')\n",
    "ratings_keys = list(ratings.keys())\n",
    "AMZN"
   ]
  },
  {
   "cell_type": "code",
   "execution_count": 16,
   "id": "df440744",
   "metadata": {},
   "outputs": [
    {
     "data": {
      "text/html": [
       "<div>\n",
       "<style scoped>\n",
       "    .dataframe tbody tr th:only-of-type {\n",
       "        vertical-align: middle;\n",
       "    }\n",
       "\n",
       "    .dataframe tbody tr th {\n",
       "        vertical-align: top;\n",
       "    }\n",
       "\n",
       "    .dataframe thead th {\n",
       "        text-align: right;\n",
       "    }\n",
       "</style>\n",
       "<table border=\"1\" class=\"dataframe\">\n",
       "  <thead>\n",
       "    <tr style=\"text-align: right;\">\n",
       "      <th></th>\n",
       "      <th>Item ID</th>\n",
       "      <th>User ID</th>\n",
       "      <th>Rating</th>\n",
       "      <th>Timestamp</th>\n",
       "    </tr>\n",
       "  </thead>\n",
       "  <tbody>\n",
       "    <tr>\n",
       "      <th>474132</th>\n",
       "      <td>B00004X18E</td>\n",
       "      <td>A3MR51MDYU0KXJ</td>\n",
       "      <td>4.0</td>\n",
       "      <td>2000-10-22</td>\n",
       "    </tr>\n",
       "    <tr>\n",
       "      <th>356</th>\n",
       "      <td>B00005OU6T</td>\n",
       "      <td>A1LA5EF74R5L75</td>\n",
       "      <td>4.0</td>\n",
       "      <td>2001-11-07</td>\n",
       "    </tr>\n",
       "    <tr>\n",
       "      <th>595</th>\n",
       "      <td>B00005OU6T</td>\n",
       "      <td>A1HRXDQ7WUWC2Q</td>\n",
       "      <td>1.0</td>\n",
       "      <td>2002-02-06</td>\n",
       "    </tr>\n",
       "    <tr>\n",
       "      <th>1356</th>\n",
       "      <td>B00006JKZX</td>\n",
       "      <td>A265AD454EY8D3</td>\n",
       "      <td>4.0</td>\n",
       "      <td>2003-08-25</td>\n",
       "    </tr>\n",
       "    <tr>\n",
       "      <th>590737</th>\n",
       "      <td>B0000CFF2X</td>\n",
       "      <td>A3GBQXQWIT78SL</td>\n",
       "      <td>2.0</td>\n",
       "      <td>2003-11-29</td>\n",
       "    </tr>\n",
       "    <tr>\n",
       "      <th>...</th>\n",
       "      <td>...</td>\n",
       "      <td>...</td>\n",
       "      <td>...</td>\n",
       "      <td>...</td>\n",
       "    </tr>\n",
       "    <tr>\n",
       "      <th>602583</th>\n",
       "      <td>B01HFCVU9K</td>\n",
       "      <td>A18QU0G79DE8ZV</td>\n",
       "      <td>1.0</td>\n",
       "      <td>2018-10-01</td>\n",
       "    </tr>\n",
       "    <tr>\n",
       "      <th>602110</th>\n",
       "      <td>B01GXOY74Q</td>\n",
       "      <td>A3RE7ALMEFZ2C1</td>\n",
       "      <td>5.0</td>\n",
       "      <td>2018-10-01</td>\n",
       "    </tr>\n",
       "    <tr>\n",
       "      <th>601957</th>\n",
       "      <td>B01GVLWZT0</td>\n",
       "      <td>A7GU6YT10BXEJ</td>\n",
       "      <td>2.0</td>\n",
       "      <td>2018-10-01</td>\n",
       "    </tr>\n",
       "    <tr>\n",
       "      <th>602710</th>\n",
       "      <td>B01HICGMWC</td>\n",
       "      <td>A25UZ9POZ7SFUW</td>\n",
       "      <td>2.0</td>\n",
       "      <td>2018-10-03</td>\n",
       "    </tr>\n",
       "    <tr>\n",
       "      <th>602698</th>\n",
       "      <td>B01HHFUBDQ</td>\n",
       "      <td>A1AEP6FJRNSWY4</td>\n",
       "      <td>5.0</td>\n",
       "      <td>2018-10-03</td>\n",
       "    </tr>\n",
       "  </tbody>\n",
       "</table>\n",
       "<p>602777 rows × 4 columns</p>\n",
       "</div>"
      ],
      "text/plain": [
       "           Item ID         User ID  Rating   Timestamp\n",
       "474132  B00004X18E  A3MR51MDYU0KXJ     4.0  2000-10-22\n",
       "356     B00005OU6T  A1LA5EF74R5L75     4.0  2001-11-07\n",
       "595     B00005OU6T  A1HRXDQ7WUWC2Q     1.0  2002-02-06\n",
       "1356    B00006JKZX  A265AD454EY8D3     4.0  2003-08-25\n",
       "590737  B0000CFF2X  A3GBQXQWIT78SL     2.0  2003-11-29\n",
       "...            ...             ...     ...         ...\n",
       "602583  B01HFCVU9K  A18QU0G79DE8ZV     1.0  2018-10-01\n",
       "602110  B01GXOY74Q  A3RE7ALMEFZ2C1     5.0  2018-10-01\n",
       "601957  B01GVLWZT0   A7GU6YT10BXEJ     2.0  2018-10-01\n",
       "602710  B01HICGMWC  A25UZ9POZ7SFUW     2.0  2018-10-03\n",
       "602698  B01HHFUBDQ  A1AEP6FJRNSWY4     5.0  2018-10-03\n",
       "\n",
       "[602777 rows x 4 columns]"
      ]
     },
     "execution_count": 16,
     "metadata": {},
     "output_type": "execute_result"
    }
   ],
   "source": [
    "ratings[ratings_keys[0]]"
   ]
  },
  {
   "cell_type": "code",
   "execution_count": 17,
   "id": "947b4a46",
   "metadata": {},
   "outputs": [
    {
     "data": {
      "text/plain": [
       "474132    2000-10-22\n",
       "356       2001-11-07\n",
       "595       2002-02-06\n",
       "1356      2003-08-25\n",
       "590737    2003-11-29\n",
       "             ...    \n",
       "602583    2018-10-01\n",
       "602110    2018-10-01\n",
       "601957    2018-10-01\n",
       "602710    2018-10-03\n",
       "602698    2018-10-03\n",
       "Name: Timestamp, Length: 602777, dtype: object"
      ]
     },
     "execution_count": 17,
     "metadata": {},
     "output_type": "execute_result"
    }
   ],
   "source": [
    "ratings[ratings_keys[0]]['Timestamp']"
   ]
  },
  {
   "cell_type": "code",
   "execution_count": 18,
   "id": "6fbe5b14",
   "metadata": {},
   "outputs": [
    {
     "data": {
      "image/png": "[encoded data removed]",
      "text/plain": [
       "<Figure size 720x720 with 1 Axes>"
      ]
     },
     "metadata": {
      "needs_background": "light"
     },
     "output_type": "display_data"
    }
   ],
   "source": [
    "# Linear regression of stock price over time\n",
    "plt.figure(figsize=(10, 10))\n",
    "plt.title('Test')\n",
    "plt.xlabel('TestX')\n",
    "plt.ylabel('TestY')\n",
    "plt.plot(AMZN['Adj Close'], label = 'AMZN Adjusted Closing Price')\n",
    "plt.legend()\n",
    "plt.show()"
   ]
  },
  {
   "cell_type": "code",
   "execution_count": 19,
   "id": "e3e4b840",
   "metadata": {},
   "outputs": [
    {
     "data": {
      "text/plain": [
       "<AxesSubplot:>"
      ]
     },
     "execution_count": 19,
     "metadata": {},
     "output_type": "execute_result"
    },
    {
     "data": {
      "image/png": "[encoded data removed]",
      "text/plain": [
       "<Figure size 432x288 with 1 Axes>"
      ]
     },
     "metadata": {
      "needs_background": "light"
     },
     "output_type": "display_data"
    }
   ],
   "source": [
    "ratings[ratings_keys[0]]['Rating'].plot()"
   ]
  },
  {
   "cell_type": "code",
   "execution_count": 20,
   "id": "b85f0065",
   "metadata": {},
   "outputs": [
    {
     "data": {
      "text/plain": [
       "array([datetime.date(2000, 10, 22), datetime.date(2001, 11, 7),\n",
       "       datetime.date(2002, 2, 6), ..., datetime.date(2018, 9, 30),\n",
       "       datetime.date(2018, 10, 1), datetime.date(2018, 10, 3)],\n",
       "      dtype=object)"
      ]
     },
     "execution_count": 20,
     "metadata": {},
     "output_type": "execute_result"
    }
   ],
   "source": [
    "dates = ratings[ratings_keys[0]]['Timestamp'].unique()\n",
    "dates"
   ]
  },
  {
   "cell_type": "code",
   "execution_count": 21,
   "id": "584404b3",
   "metadata": {},
   "outputs": [
    {
     "data": {
      "text/html": [
       "<div>\n",
       "<style scoped>\n",
       "    .dataframe tbody tr th:only-of-type {\n",
       "        vertical-align: middle;\n",
       "    }\n",
       "\n",
       "    .dataframe tbody tr th {\n",
       "        vertical-align: top;\n",
       "    }\n",
       "\n",
       "    .dataframe thead th {\n",
       "        text-align: right;\n",
       "    }\n",
       "</style>\n",
       "<table border=\"1\" class=\"dataframe\">\n",
       "  <thead>\n",
       "    <tr style=\"text-align: right;\">\n",
       "      <th></th>\n",
       "      <th>Item ID</th>\n",
       "      <th>User ID</th>\n",
       "      <th>Rating</th>\n",
       "      <th>Timestamp</th>\n",
       "    </tr>\n",
       "  </thead>\n",
       "  <tbody>\n",
       "    <tr>\n",
       "      <th>474132</th>\n",
       "      <td>B00004X18E</td>\n",
       "      <td>A3MR51MDYU0KXJ</td>\n",
       "      <td>4.0</td>\n",
       "      <td>2000-10-22</td>\n",
       "    </tr>\n",
       "    <tr>\n",
       "      <th>356</th>\n",
       "      <td>B00005OU6T</td>\n",
       "      <td>A1LA5EF74R5L75</td>\n",
       "      <td>4.0</td>\n",
       "      <td>2001-11-07</td>\n",
       "    </tr>\n",
       "    <tr>\n",
       "      <th>595</th>\n",
       "      <td>B00005OU6T</td>\n",
       "      <td>A1HRXDQ7WUWC2Q</td>\n",
       "      <td>1.0</td>\n",
       "      <td>2002-02-06</td>\n",
       "    </tr>\n",
       "    <tr>\n",
       "      <th>1356</th>\n",
       "      <td>B00006JKZX</td>\n",
       "      <td>A265AD454EY8D3</td>\n",
       "      <td>4.0</td>\n",
       "      <td>2003-08-25</td>\n",
       "    </tr>\n",
       "    <tr>\n",
       "      <th>590737</th>\n",
       "      <td>B0000CFF2X</td>\n",
       "      <td>A3GBQXQWIT78SL</td>\n",
       "      <td>2.0</td>\n",
       "      <td>2003-11-29</td>\n",
       "    </tr>\n",
       "    <tr>\n",
       "      <th>...</th>\n",
       "      <td>...</td>\n",
       "      <td>...</td>\n",
       "      <td>...</td>\n",
       "      <td>...</td>\n",
       "    </tr>\n",
       "    <tr>\n",
       "      <th>602583</th>\n",
       "      <td>B01HFCVU9K</td>\n",
       "      <td>A18QU0G79DE8ZV</td>\n",
       "      <td>1.0</td>\n",
       "      <td>2018-10-01</td>\n",
       "    </tr>\n",
       "    <tr>\n",
       "      <th>602110</th>\n",
       "      <td>B01GXOY74Q</td>\n",
       "      <td>A3RE7ALMEFZ2C1</td>\n",
       "      <td>5.0</td>\n",
       "      <td>2018-10-01</td>\n",
       "    </tr>\n",
       "    <tr>\n",
       "      <th>601957</th>\n",
       "      <td>B01GVLWZT0</td>\n",
       "      <td>A7GU6YT10BXEJ</td>\n",
       "      <td>2.0</td>\n",
       "      <td>2018-10-01</td>\n",
       "    </tr>\n",
       "    <tr>\n",
       "      <th>602710</th>\n",
       "      <td>B01HICGMWC</td>\n",
       "      <td>A25UZ9POZ7SFUW</td>\n",
       "      <td>2.0</td>\n",
       "      <td>2018-10-03</td>\n",
       "    </tr>\n",
       "    <tr>\n",
       "      <th>602698</th>\n",
       "      <td>B01HHFUBDQ</td>\n",
       "      <td>A1AEP6FJRNSWY4</td>\n",
       "      <td>5.0</td>\n",
       "      <td>2018-10-03</td>\n",
       "    </tr>\n",
       "  </tbody>\n",
       "</table>\n",
       "<p>602777 rows × 4 columns</p>\n",
       "</div>"
      ],
      "text/plain": [
       "           Item ID         User ID  Rating   Timestamp\n",
       "474132  B00004X18E  A3MR51MDYU0KXJ     4.0  2000-10-22\n",
       "356     B00005OU6T  A1LA5EF74R5L75     4.0  2001-11-07\n",
       "595     B00005OU6T  A1HRXDQ7WUWC2Q     1.0  2002-02-06\n",
       "1356    B00006JKZX  A265AD454EY8D3     4.0  2003-08-25\n",
       "590737  B0000CFF2X  A3GBQXQWIT78SL     2.0  2003-11-29\n",
       "...            ...             ...     ...         ...\n",
       "602583  B01HFCVU9K  A18QU0G79DE8ZV     1.0  2018-10-01\n",
       "602110  B01GXOY74Q  A3RE7ALMEFZ2C1     5.0  2018-10-01\n",
       "601957  B01GVLWZT0   A7GU6YT10BXEJ     2.0  2018-10-01\n",
       "602710  B01HICGMWC  A25UZ9POZ7SFUW     2.0  2018-10-03\n",
       "602698  B01HHFUBDQ  A1AEP6FJRNSWY4     5.0  2018-10-03\n",
       "\n",
       "[602777 rows x 4 columns]"
      ]
     },
     "execution_count": 21,
     "metadata": {},
     "output_type": "execute_result"
    }
   ],
   "source": [
    "sample_df = ratings[ratings_keys[0]]\n",
    "sample_df"
   ]
  },
  {
   "cell_type": "code",
   "execution_count": 22,
   "id": "d8f94cea",
   "metadata": {},
   "outputs": [
    {
     "data": {
      "text/html": [
       "<div>\n",
       "<style scoped>\n",
       "    .dataframe tbody tr th:only-of-type {\n",
       "        vertical-align: middle;\n",
       "    }\n",
       "\n",
       "    .dataframe tbody tr th {\n",
       "        vertical-align: top;\n",
       "    }\n",
       "\n",
       "    .dataframe thead th {\n",
       "        text-align: right;\n",
       "    }\n",
       "</style>\n",
       "<table border=\"1\" class=\"dataframe\">\n",
       "  <thead>\n",
       "    <tr style=\"text-align: right;\">\n",
       "      <th></th>\n",
       "      <th>Item ID</th>\n",
       "      <th>User ID</th>\n",
       "      <th>Rating</th>\n",
       "      <th>Timestamp</th>\n",
       "    </tr>\n",
       "  </thead>\n",
       "  <tbody>\n",
       "    <tr>\n",
       "      <th>474132</th>\n",
       "      <td>B00004X18E</td>\n",
       "      <td>A3MR51MDYU0KXJ</td>\n",
       "      <td>4.0</td>\n",
       "      <td>2000-10-22</td>\n",
       "    </tr>\n",
       "  </tbody>\n",
       "</table>\n",
       "</div>"
      ],
      "text/plain": [
       "           Item ID         User ID  Rating   Timestamp\n",
       "474132  B00004X18E  A3MR51MDYU0KXJ     4.0  2000-10-22"
      ]
     },
     "execution_count": 22,
     "metadata": {},
     "output_type": "execute_result"
    }
   ],
   "source": [
    "values = sample_df.loc[sample_df['Timestamp'] == dates[0]]\n",
    "values"
   ]
  },
  {
   "cell_type": "code",
   "execution_count": 23,
   "id": "ab7c0d4f",
   "metadata": {},
   "outputs": [
    {
     "data": {
      "text/plain": [
       "4.0"
      ]
     },
     "execution_count": 23,
     "metadata": {},
     "output_type": "execute_result"
    }
   ],
   "source": [
    "values['Rating'].mean()"
   ]
  },
  {
   "cell_type": "code",
   "execution_count": 24,
   "id": "e20bda35",
   "metadata": {},
   "outputs": [],
   "source": [
    "def get_average_ratings(directory):\n",
    "    ratings = get_ratings_data(directory)\n",
    "    ratings_keys = list(ratings.keys())\n",
    "    all_average_ratings = {}\n",
    "    \n",
    "    \n",
    "    for key in ratings_keys:\n",
    "        \n",
    "        df = ratings[key]\n",
    "        dates = df['Timestamp'].unique()\n",
    "        average_ratings = {}\n",
    "        average_ratings[\"Date\"] = []\n",
    "        average_ratings[\"Average Rating\"] = []\n",
    "        \n",
    "        for date in dates:\n",
    "            values = df.loc[df['Timestamp'] == date]\n",
    "            average_rating = values['Rating'].mean()\n",
    "            average_ratings['Date'].append(date)\n",
    "            average_ratings['Average Rating'].append(average_rating)\n",
    "            \n",
    "        all_average_ratings[key] = average_ratings\n",
    "     \n",
    "    for category in all_average_ratings:\n",
    "        df = pd.DataFrame(data = all_average_ratings[category]['Average Rating'], columns = ['Average Rating'], index = all_average_ratings[category]['Date'])     \n",
    "        all_average_ratings[category] = df\n",
    "    return all_average_ratings\n"
   ]
  },
  {
   "cell_type": "code",
   "execution_count": 25,
   "id": "c1b8133c",
   "metadata": {},
   "outputs": [],
   "source": [
    "all_average_ratings = get_average_ratings('../data/ratings/')"
   ]
  },
  {
   "cell_type": "code",
   "execution_count": 26,
   "id": "140a20d3",
   "metadata": {},
   "outputs": [
    {
     "data": {
      "text/html": [
       "<div>\n",
       "<style scoped>\n",
       "    .dataframe tbody tr th:only-of-type {\n",
       "        vertical-align: middle;\n",
       "    }\n",
       "\n",
       "    .dataframe tbody tr th {\n",
       "        vertical-align: top;\n",
       "    }\n",
       "\n",
       "    .dataframe thead th {\n",
       "        text-align: right;\n",
       "    }\n",
       "</style>\n",
       "<table border=\"1\" class=\"dataframe\">\n",
       "  <thead>\n",
       "    <tr style=\"text-align: right;\">\n",
       "      <th></th>\n",
       "      <th>Average Rating</th>\n",
       "    </tr>\n",
       "  </thead>\n",
       "  <tbody>\n",
       "    <tr>\n",
       "      <th>2001-10-25</th>\n",
       "      <td>4.394737</td>\n",
       "    </tr>\n",
       "    <tr>\n",
       "      <th>2001-10-26</th>\n",
       "      <td>4.384615</td>\n",
       "    </tr>\n",
       "    <tr>\n",
       "      <th>2001-10-28</th>\n",
       "      <td>3.866667</td>\n",
       "    </tr>\n",
       "    <tr>\n",
       "      <th>2001-10-29</th>\n",
       "      <td>4.500000</td>\n",
       "    </tr>\n",
       "    <tr>\n",
       "      <th>2001-10-30</th>\n",
       "      <td>4.333333</td>\n",
       "    </tr>\n",
       "    <tr>\n",
       "      <th>...</th>\n",
       "      <td>...</td>\n",
       "    </tr>\n",
       "    <tr>\n",
       "      <th>2018-09-10</th>\n",
       "      <td>5.000000</td>\n",
       "    </tr>\n",
       "    <tr>\n",
       "      <th>2018-09-11</th>\n",
       "      <td>2.000000</td>\n",
       "    </tr>\n",
       "    <tr>\n",
       "      <th>2018-09-12</th>\n",
       "      <td>3.500000</td>\n",
       "    </tr>\n",
       "    <tr>\n",
       "      <th>2018-09-13</th>\n",
       "      <td>5.000000</td>\n",
       "    </tr>\n",
       "    <tr>\n",
       "      <th>2018-09-18</th>\n",
       "      <td>5.000000</td>\n",
       "    </tr>\n",
       "  </tbody>\n",
       "</table>\n",
       "<p>5804 rows × 1 columns</p>\n",
       "</div>"
      ],
      "text/plain": [
       "            Average Rating\n",
       "2001-10-25        4.394737\n",
       "2001-10-26        4.384615\n",
       "2001-10-28        3.866667\n",
       "2001-10-29        4.500000\n",
       "2001-10-30        4.333333\n",
       "...                    ...\n",
       "2018-09-10        5.000000\n",
       "2018-09-11        2.000000\n",
       "2018-09-12        3.500000\n",
       "2018-09-13        5.000000\n",
       "2018-09-18        5.000000\n",
       "\n",
       "[5804 rows x 1 columns]"
      ]
     },
     "execution_count": 26,
     "metadata": {},
     "output_type": "execute_result"
    }
   ],
   "source": [
    "all_average_ratings['../data/ratings/Magazine_Subscriptions.csv']"
   ]
  },
  {
   "cell_type": "code",
   "execution_count": 27,
   "id": "d0860e7e",
   "metadata": {
    "scrolled": false
   },
   "outputs": [
    {
     "data": {
      "image/png": "[encoded data removed]",
      "text/plain": [
       "<Figure size 720x720 with 1 Axes>"
      ]
     },
     "metadata": {
      "needs_background": "light"
     },
     "output_type": "display_data"
    }
   ],
   "source": [
    "plt.figure(figsize=(10, 10))\n",
    "plt.plot(all_average_ratings['../data/ratings/Magazine_Subscriptions.csv']['Average Rating'])\n",
    "plt.show()"
   ]
  },
  {
   "cell_type": "code",
   "execution_count": 28,
   "id": "606a786d",
   "metadata": {},
   "outputs": [
    {
     "data": {
      "text/html": [
       "<div>\n",
       "<style scoped>\n",
       "    .dataframe tbody tr th:only-of-type {\n",
       "        vertical-align: middle;\n",
       "    }\n",
       "\n",
       "    .dataframe tbody tr th {\n",
       "        vertical-align: top;\n",
       "    }\n",
       "\n",
       "    .dataframe thead th {\n",
       "        text-align: right;\n",
       "    }\n",
       "</style>\n",
       "<table border=\"1\" class=\"dataframe\">\n",
       "  <thead>\n",
       "    <tr style=\"text-align: right;\">\n",
       "      <th></th>\n",
       "      <th>Average Rating</th>\n",
       "    </tr>\n",
       "  </thead>\n",
       "  <tbody>\n",
       "    <tr>\n",
       "      <th>2001-10-25</th>\n",
       "      <td>4.394737</td>\n",
       "    </tr>\n",
       "    <tr>\n",
       "      <th>2001-10-26</th>\n",
       "      <td>4.384615</td>\n",
       "    </tr>\n",
       "    <tr>\n",
       "      <th>2001-10-28</th>\n",
       "      <td>3.866667</td>\n",
       "    </tr>\n",
       "    <tr>\n",
       "      <th>2001-10-29</th>\n",
       "      <td>4.500000</td>\n",
       "    </tr>\n",
       "    <tr>\n",
       "      <th>2001-10-30</th>\n",
       "      <td>4.333333</td>\n",
       "    </tr>\n",
       "    <tr>\n",
       "      <th>...</th>\n",
       "      <td>...</td>\n",
       "    </tr>\n",
       "    <tr>\n",
       "      <th>2002-02-13</th>\n",
       "      <td>5.000000</td>\n",
       "    </tr>\n",
       "    <tr>\n",
       "      <th>2002-02-14</th>\n",
       "      <td>3.000000</td>\n",
       "    </tr>\n",
       "    <tr>\n",
       "      <th>2002-02-16</th>\n",
       "      <td>2.000000</td>\n",
       "    </tr>\n",
       "    <tr>\n",
       "      <th>2002-02-17</th>\n",
       "      <td>5.000000</td>\n",
       "    </tr>\n",
       "    <tr>\n",
       "      <th>2002-02-18</th>\n",
       "      <td>2.000000</td>\n",
       "    </tr>\n",
       "  </tbody>\n",
       "</table>\n",
       "<p>100 rows × 1 columns</p>\n",
       "</div>"
      ],
      "text/plain": [
       "            Average Rating\n",
       "2001-10-25        4.394737\n",
       "2001-10-26        4.384615\n",
       "2001-10-28        3.866667\n",
       "2001-10-29        4.500000\n",
       "2001-10-30        4.333333\n",
       "...                    ...\n",
       "2002-02-13        5.000000\n",
       "2002-02-14        3.000000\n",
       "2002-02-16        2.000000\n",
       "2002-02-17        5.000000\n",
       "2002-02-18        2.000000\n",
       "\n",
       "[100 rows x 1 columns]"
      ]
     },
     "execution_count": 28,
     "metadata": {},
     "output_type": "execute_result"
    }
   ],
   "source": [
    "magazines = all_average_ratings['../data/ratings/Magazine_Subscriptions.csv'].iloc[:100]\n",
    "magazines"
   ]
  },
  {
   "cell_type": "code",
   "execution_count": 29,
   "id": "434f816c",
   "metadata": {},
   "outputs": [
    {
     "data": {
      "image/png": "[encoded data removed]",
      "text/plain": [
       "<Figure size 720x720 with 1 Axes>"
      ]
     },
     "metadata": {
      "needs_background": "light"
     },
     "output_type": "display_data"
    }
   ],
   "source": [
    "plt.figure(figsize=(10, 10))\n",
    "plt.plot(magazines['Average Rating'])\n",
    "plt.show()"
   ]
  },
  {
   "cell_type": "code",
   "execution_count": 31,
   "id": "844474c5",
   "metadata": {},
   "outputs": [
    {
     "data": {
      "image/png": "[encoded data removed]",
      "text/plain": [
       "<Figure size 432x288 with 1 Axes>"
      ]
     },
     "metadata": {
      "needs_background": "light"
     },
     "output_type": "display_data"
    }
   ],
   "source": [
    "plt.plot(AMZN['Adj Close'].iloc[:100])\n",
    "plt.plot(magazines['Average Rating'])\n",
    "plt.show()"
   ]
  },
  {
   "cell_type": "code",
   "execution_count": null,
   "id": "c1661088",
   "metadata": {},
   "outputs": [],
   "source": []
  }
 ],
 "metadata": {
  "kernelspec": {
   "display_name": "Python 3 (ipykernel)",
   "language": "python",
   "name": "python3"
  },
  "language_info": {
   "codemirror_mode": {
    "name": "ipython",
    "version": 3
   },
   "file_extension": ".py",
   "mimetype": "text/x-python",
   "name": "python",
   "nbconvert_exporter": "python",
   "pygments_lexer": "ipython3",
   "version": "3.9.12"
  }
 },
 "nbformat": 4,
 "nbformat_minor": 5
}
