{
 "cells": [
  {
   "cell_type": "code",
   "execution_count": 27,
   "id": "4815137c",
   "metadata": {},
   "outputs": [],
   "source": [
    "import yfinance as yf\n",
    "import pandas as pd\n",
    "import datetime\n",
    "from datetime import date"
   ]
  },
  {
   "cell_type": "code",
   "execution_count": 21,
   "id": "9f97d439",
   "metadata": {},
   "outputs": [
    {
     "name": "stdout",
     "output_type": "stream",
     "text": [
      "[*********************100%***********************]  1 of 1 completed\n"
     ]
    }
   ],
   "source": [
    "AMZN = yf.download(tickers = 'AMZN', period = '4Y', interval = '1d')"
   ]
  },
  {
   "cell_type": "code",
   "execution_count": 22,
   "id": "edb78f79",
   "metadata": {},
   "outputs": [
    {
     "data": {
      "text/html": [
       "<div>\n",
       "<style scoped>\n",
       "    .dataframe tbody tr th:only-of-type {\n",
       "        vertical-align: middle;\n",
       "    }\n",
       "\n",
       "    .dataframe tbody tr th {\n",
       "        vertical-align: top;\n",
       "    }\n",
       "\n",
       "    .dataframe thead th {\n",
       "        text-align: right;\n",
       "    }\n",
       "</style>\n",
       "<table border=\"1\" class=\"dataframe\">\n",
       "  <thead>\n",
       "    <tr style=\"text-align: right;\">\n",
       "      <th></th>\n",
       "      <th>Open</th>\n",
       "      <th>High</th>\n",
       "      <th>Low</th>\n",
       "      <th>Close</th>\n",
       "      <th>Adj Close</th>\n",
       "      <th>Volume</th>\n",
       "    </tr>\n",
       "    <tr>\n",
       "      <th>Date</th>\n",
       "      <th></th>\n",
       "      <th></th>\n",
       "      <th></th>\n",
       "      <th></th>\n",
       "      <th></th>\n",
       "      <th></th>\n",
       "    </tr>\n",
       "  </thead>\n",
       "  <tbody>\n",
       "    <tr>\n",
       "      <th>2018-12-03</th>\n",
       "      <td>88.473000</td>\n",
       "      <td>88.917000</td>\n",
       "      <td>86.500000</td>\n",
       "      <td>88.617996</td>\n",
       "      <td>88.617996</td>\n",
       "      <td>137246000</td>\n",
       "    </tr>\n",
       "    <tr>\n",
       "      <th>2018-12-04</th>\n",
       "      <td>87.800003</td>\n",
       "      <td>88.516998</td>\n",
       "      <td>83.250000</td>\n",
       "      <td>83.419998</td>\n",
       "      <td>83.419998</td>\n",
       "      <td>173890000</td>\n",
       "    </tr>\n",
       "    <tr>\n",
       "      <th>2018-12-06</th>\n",
       "      <td>80.743500</td>\n",
       "      <td>85.052498</td>\n",
       "      <td>80.492500</td>\n",
       "      <td>84.959503</td>\n",
       "      <td>84.959503</td>\n",
       "      <td>175788000</td>\n",
       "    </tr>\n",
       "    <tr>\n",
       "      <th>2018-12-07</th>\n",
       "      <td>85.253502</td>\n",
       "      <td>85.946503</td>\n",
       "      <td>81.273003</td>\n",
       "      <td>81.456497</td>\n",
       "      <td>81.456497</td>\n",
       "      <td>151522000</td>\n",
       "    </tr>\n",
       "    <tr>\n",
       "      <th>2018-12-10</th>\n",
       "      <td>81.192001</td>\n",
       "      <td>82.899498</td>\n",
       "      <td>79.543503</td>\n",
       "      <td>82.051498</td>\n",
       "      <td>82.051498</td>\n",
       "      <td>149896000</td>\n",
       "    </tr>\n",
       "    <tr>\n",
       "      <th>...</th>\n",
       "      <td>...</td>\n",
       "      <td>...</td>\n",
       "      <td>...</td>\n",
       "      <td>...</td>\n",
       "      <td>...</td>\n",
       "      <td>...</td>\n",
       "    </tr>\n",
       "    <tr>\n",
       "      <th>2022-11-23</th>\n",
       "      <td>93.239998</td>\n",
       "      <td>94.580002</td>\n",
       "      <td>92.830002</td>\n",
       "      <td>94.129997</td>\n",
       "      <td>94.129997</td>\n",
       "      <td>59414700</td>\n",
       "    </tr>\n",
       "    <tr>\n",
       "      <th>2022-11-25</th>\n",
       "      <td>93.790001</td>\n",
       "      <td>94.430000</td>\n",
       "      <td>93.070000</td>\n",
       "      <td>93.410004</td>\n",
       "      <td>93.410004</td>\n",
       "      <td>35088600</td>\n",
       "    </tr>\n",
       "    <tr>\n",
       "      <th>2022-11-28</th>\n",
       "      <td>93.930000</td>\n",
       "      <td>96.400002</td>\n",
       "      <td>93.430000</td>\n",
       "      <td>93.949997</td>\n",
       "      <td>93.949997</td>\n",
       "      <td>74943100</td>\n",
       "    </tr>\n",
       "    <tr>\n",
       "      <th>2022-11-29</th>\n",
       "      <td>94.040001</td>\n",
       "      <td>94.410004</td>\n",
       "      <td>91.440002</td>\n",
       "      <td>92.419998</td>\n",
       "      <td>92.419998</td>\n",
       "      <td>65567300</td>\n",
       "    </tr>\n",
       "    <tr>\n",
       "      <th>2022-11-30</th>\n",
       "      <td>92.470001</td>\n",
       "      <td>96.540001</td>\n",
       "      <td>91.529999</td>\n",
       "      <td>96.540001</td>\n",
       "      <td>96.540001</td>\n",
       "      <td>102628200</td>\n",
       "    </tr>\n",
       "  </tbody>\n",
       "</table>\n",
       "<p>1006 rows × 6 columns</p>\n",
       "</div>"
      ],
      "text/plain": [
       "                 Open       High        Low      Close  Adj Close     Volume\n",
       "Date                                                                        \n",
       "2018-12-03  88.473000  88.917000  86.500000  88.617996  88.617996  137246000\n",
       "2018-12-04  87.800003  88.516998  83.250000  83.419998  83.419998  173890000\n",
       "2018-12-06  80.743500  85.052498  80.492500  84.959503  84.959503  175788000\n",
       "2018-12-07  85.253502  85.946503  81.273003  81.456497  81.456497  151522000\n",
       "2018-12-10  81.192001  82.899498  79.543503  82.051498  82.051498  149896000\n",
       "...               ...        ...        ...        ...        ...        ...\n",
       "2022-11-23  93.239998  94.580002  92.830002  94.129997  94.129997   59414700\n",
       "2022-11-25  93.790001  94.430000  93.070000  93.410004  93.410004   35088600\n",
       "2022-11-28  93.930000  96.400002  93.430000  93.949997  93.949997   74943100\n",
       "2022-11-29  94.040001  94.410004  91.440002  92.419998  92.419998   65567300\n",
       "2022-11-30  92.470001  96.540001  91.529999  96.540001  96.540001  102628200\n",
       "\n",
       "[1006 rows x 6 columns]"
      ]
     },
     "execution_count": 22,
     "metadata": {},
     "output_type": "execute_result"
    }
   ],
   "source": [
    "AMZN"
   ]
  },
  {
   "cell_type": "code",
   "execution_count": 6,
   "id": "10c9c510",
   "metadata": {},
   "outputs": [
    {
     "data": {
      "text/plain": [
       "DatetimeIndex(['2021-12-01', '2021-12-02', '2021-12-03', '2021-12-06',\n",
       "               '2021-12-07', '2021-12-08', '2021-12-09', '2021-12-10',\n",
       "               '2021-12-13', '2021-12-14',\n",
       "               ...\n",
       "               '2022-11-16', '2022-11-17', '2022-11-18', '2022-11-21',\n",
       "               '2022-11-22', '2022-11-23', '2022-11-25', '2022-11-28',\n",
       "               '2022-11-29', '2022-11-30'],\n",
       "              dtype='datetime64[ns]', name='Date', length=252, freq=None)"
      ]
     },
     "execution_count": 6,
     "metadata": {},
     "output_type": "execute_result"
    }
   ],
   "source": [
    "AMZN.index"
   ]
  },
  {
   "cell_type": "code",
   "execution_count": 19,
   "id": "731a8cca",
   "metadata": {},
   "outputs": [],
   "source": [
    "data = '../data/ratings/AMAZON_FASHION.csv'\n",
    "\n",
    "col_names = ['Item','User','Rating','Timestamp']\n",
    "\n",
    "df = pd.read_csv(data, names = col_names)"
   ]
  },
  {
   "cell_type": "code",
   "execution_count": 20,
   "id": "212dae9c",
   "metadata": {},
   "outputs": [
    {
     "data": {
      "text/html": [
       "<div>\n",
       "<style scoped>\n",
       "    .dataframe tbody tr th:only-of-type {\n",
       "        vertical-align: middle;\n",
       "    }\n",
       "\n",
       "    .dataframe tbody tr th {\n",
       "        vertical-align: top;\n",
       "    }\n",
       "\n",
       "    .dataframe thead th {\n",
       "        text-align: right;\n",
       "    }\n",
       "</style>\n",
       "<table border=\"1\" class=\"dataframe\">\n",
       "  <thead>\n",
       "    <tr style=\"text-align: right;\">\n",
       "      <th></th>\n",
       "      <th>Item</th>\n",
       "      <th>User</th>\n",
       "      <th>Rating</th>\n",
       "      <th>Timestamp</th>\n",
       "    </tr>\n",
       "  </thead>\n",
       "  <tbody>\n",
       "    <tr>\n",
       "      <th>0</th>\n",
       "      <td>7106116521</td>\n",
       "      <td>A1D4G1SNUZWQOT</td>\n",
       "      <td>5.0</td>\n",
       "      <td>1413763200</td>\n",
       "    </tr>\n",
       "    <tr>\n",
       "      <th>1</th>\n",
       "      <td>7106116521</td>\n",
       "      <td>A3DDWDH9PX2YX2</td>\n",
       "      <td>2.0</td>\n",
       "      <td>1411862400</td>\n",
       "    </tr>\n",
       "    <tr>\n",
       "      <th>2</th>\n",
       "      <td>7106116521</td>\n",
       "      <td>A2MWC41EW7XL15</td>\n",
       "      <td>4.0</td>\n",
       "      <td>1408924800</td>\n",
       "    </tr>\n",
       "    <tr>\n",
       "      <th>3</th>\n",
       "      <td>7106116521</td>\n",
       "      <td>A2UH2QQ275NV45</td>\n",
       "      <td>2.0</td>\n",
       "      <td>1408838400</td>\n",
       "    </tr>\n",
       "    <tr>\n",
       "      <th>4</th>\n",
       "      <td>7106116521</td>\n",
       "      <td>A89F3LQADZBS5</td>\n",
       "      <td>3.0</td>\n",
       "      <td>1406419200</td>\n",
       "    </tr>\n",
       "    <tr>\n",
       "      <th>...</th>\n",
       "      <td>...</td>\n",
       "      <td>...</td>\n",
       "      <td>...</td>\n",
       "      <td>...</td>\n",
       "    </tr>\n",
       "    <tr>\n",
       "      <th>883631</th>\n",
       "      <td>B01HJHTH5U</td>\n",
       "      <td>A1ZSB2Q144UTEY</td>\n",
       "      <td>5.0</td>\n",
       "      <td>1487635200</td>\n",
       "    </tr>\n",
       "    <tr>\n",
       "      <th>883632</th>\n",
       "      <td>B01HJHTH5U</td>\n",
       "      <td>A2CCDV0J5VB6F2</td>\n",
       "      <td>5.0</td>\n",
       "      <td>1480032000</td>\n",
       "    </tr>\n",
       "    <tr>\n",
       "      <th>883633</th>\n",
       "      <td>B01HJHTH5U</td>\n",
       "      <td>A3O90PACS7B61K</td>\n",
       "      <td>3.0</td>\n",
       "      <td>1478736000</td>\n",
       "    </tr>\n",
       "    <tr>\n",
       "      <th>883634</th>\n",
       "      <td>B01HJHF97K</td>\n",
       "      <td>A2HO94I89U3LNH</td>\n",
       "      <td>3.0</td>\n",
       "      <td>1478736000</td>\n",
       "    </tr>\n",
       "    <tr>\n",
       "      <th>883635</th>\n",
       "      <td>B01HJG5NMW</td>\n",
       "      <td>A2RSX9E79DUHRX</td>\n",
       "      <td>5.0</td>\n",
       "      <td>1470700800</td>\n",
       "    </tr>\n",
       "  </tbody>\n",
       "</table>\n",
       "<p>883636 rows × 4 columns</p>\n",
       "</div>"
      ],
      "text/plain": [
       "              Item            User  Rating   Timestamp\n",
       "0       7106116521  A1D4G1SNUZWQOT     5.0  1413763200\n",
       "1       7106116521  A3DDWDH9PX2YX2     2.0  1411862400\n",
       "2       7106116521  A2MWC41EW7XL15     4.0  1408924800\n",
       "3       7106116521  A2UH2QQ275NV45     2.0  1408838400\n",
       "4       7106116521   A89F3LQADZBS5     3.0  1406419200\n",
       "...            ...             ...     ...         ...\n",
       "883631  B01HJHTH5U  A1ZSB2Q144UTEY     5.0  1487635200\n",
       "883632  B01HJHTH5U  A2CCDV0J5VB6F2     5.0  1480032000\n",
       "883633  B01HJHTH5U  A3O90PACS7B61K     3.0  1478736000\n",
       "883634  B01HJHF97K  A2HO94I89U3LNH     3.0  1478736000\n",
       "883635  B01HJG5NMW  A2RSX9E79DUHRX     5.0  1470700800\n",
       "\n",
       "[883636 rows x 4 columns]"
      ]
     },
     "execution_count": 20,
     "metadata": {},
     "output_type": "execute_result"
    }
   ],
   "source": [
    "df"
   ]
  },
  {
   "cell_type": "code",
   "execution_count": 16,
   "id": "373a10bb",
   "metadata": {},
   "outputs": [
    {
     "data": {
      "text/plain": [
       "3.9069401880412298"
      ]
     },
     "execution_count": 16,
     "metadata": {},
     "output_type": "execute_result"
    }
   ],
   "source": [
    "sum(df['Rating'])/len(df['Rating'])"
   ]
  },
  {
   "cell_type": "code",
   "execution_count": 24,
   "id": "4e78f4ad",
   "metadata": {},
   "outputs": [
    {
     "data": {
      "text/plain": [
       "0         1413763200\n",
       "1         1411862400\n",
       "2         1408924800\n",
       "3         1408838400\n",
       "4         1406419200\n",
       "             ...    \n",
       "883631    1487635200\n",
       "883632    1480032000\n",
       "883633    1478736000\n",
       "883634    1478736000\n",
       "883635    1470700800\n",
       "Name: Timestamp, Length: 883636, dtype: int64"
      ]
     },
     "execution_count": 24,
     "metadata": {},
     "output_type": "execute_result"
    }
   ],
   "source": [
    "times = df['Timestamp']\n",
    "times"
   ]
  },
  {
   "cell_type": "code",
   "execution_count": 33,
   "id": "fbdb58cd",
   "metadata": {},
   "outputs": [],
   "source": [
    "# TODO:\n",
    "# Replace Timestamp column with date\n",
    "# Import ALL data\n",
    "# Sentiment analysis?\n",
    "# Processing JSON data"
   ]
  },
  {
   "cell_type": "code",
   "execution_count": null,
   "id": "a6b79702",
   "metadata": {},
   "outputs": [],
   "source": []
  }
 ],
 "metadata": {
  "kernelspec": {
   "display_name": "Python 3 (ipykernel)",
   "language": "python",
   "name": "python3"
  },
  "language_info": {
   "codemirror_mode": {
    "name": "ipython",
    "version": 3
   },
   "file_extension": ".py",
   "mimetype": "text/x-python",
   "name": "python",
   "nbconvert_exporter": "python",
   "pygments_lexer": "ipython3",
   "version": "3.9.12"
  }
 },
 "nbformat": 4,
 "nbformat_minor": 5
}
