{
 "cells": [
  {
   "cell_type": "code",
   "execution_count": 1,
   "id": "94069818",
   "metadata": {},
   "outputs": [
    {
     "name": "stdout",
     "output_type": "stream",
     "text": [
      "Requirement already satisfied: pydrive in /home/pavle/anaconda3/lib/python3.9/site-packages (1.3.1)\n",
      "Requirement already satisfied: google-api-python-client>=1.2 in /home/pavle/anaconda3/lib/python3.9/site-packages (from pydrive) (2.68.0)\n",
      "Requirement already satisfied: oauth2client>=4.0.0 in /home/pavle/anaconda3/lib/python3.9/site-packages (from pydrive) (4.1.3)\n",
      "Requirement already satisfied: PyYAML>=3.0 in /home/pavle/anaconda3/lib/python3.9/site-packages (from pydrive) (6.0)\n",
      "Requirement already satisfied: httplib2<1dev,>=0.15.0 in /home/pavle/anaconda3/lib/python3.9/site-packages (from google-api-python-client>=1.2->pydrive) (0.21.0)\n",
      "Requirement already satisfied: uritemplate<5,>=3.0.1 in /home/pavle/anaconda3/lib/python3.9/site-packages (from google-api-python-client>=1.2->pydrive) (4.1.1)\n",
      "Requirement already satisfied: google-auth<3.0.0dev,>=1.19.0 in /home/pavle/anaconda3/lib/python3.9/site-packages (from google-api-python-client>=1.2->pydrive) (2.15.0)\n",
      "Requirement already satisfied: google-auth-httplib2>=0.1.0 in /home/pavle/anaconda3/lib/python3.9/site-packages (from google-api-python-client>=1.2->pydrive) (0.1.0)\n",
      "Requirement already satisfied: google-api-core!=2.0.*,!=2.1.*,!=2.2.*,!=2.3.0,<3.0.0dev,>=1.31.5 in /home/pavle/anaconda3/lib/python3.9/site-packages (from google-api-python-client>=1.2->pydrive) (2.11.0)\n",
      "Requirement already satisfied: protobuf!=3.20.0,!=3.20.1,!=4.21.0,!=4.21.1,!=4.21.2,!=4.21.3,!=4.21.4,!=4.21.5,<5.0.0dev,>=3.19.5 in /home/pavle/anaconda3/lib/python3.9/site-packages (from google-api-core!=2.0.*,!=2.1.*,!=2.2.*,!=2.3.0,<3.0.0dev,>=1.31.5->google-api-python-client>=1.2->pydrive) (4.21.10)\n",
      "Requirement already satisfied: requests<3.0.0dev,>=2.18.0 in /home/pavle/anaconda3/lib/python3.9/site-packages (from google-api-core!=2.0.*,!=2.1.*,!=2.2.*,!=2.3.0,<3.0.0dev,>=1.31.5->google-api-python-client>=1.2->pydrive) (2.27.1)\n",
      "Requirement already satisfied: googleapis-common-protos<2.0dev,>=1.56.2 in /home/pavle/anaconda3/lib/python3.9/site-packages (from google-api-core!=2.0.*,!=2.1.*,!=2.2.*,!=2.3.0,<3.0.0dev,>=1.31.5->google-api-python-client>=1.2->pydrive) (1.57.0)\n",
      "Requirement already satisfied: rsa<5,>=3.1.4 in /home/pavle/anaconda3/lib/python3.9/site-packages (from google-auth<3.0.0dev,>=1.19.0->google-api-python-client>=1.2->pydrive) (4.7.2)\n",
      "Requirement already satisfied: cachetools<6.0,>=2.0.0 in /home/pavle/anaconda3/lib/python3.9/site-packages (from google-auth<3.0.0dev,>=1.19.0->google-api-python-client>=1.2->pydrive) (4.2.2)\n",
      "Requirement already satisfied: six>=1.9.0 in /home/pavle/anaconda3/lib/python3.9/site-packages (from google-auth<3.0.0dev,>=1.19.0->google-api-python-client>=1.2->pydrive) (1.16.0)\n",
      "Requirement already satisfied: pyasn1-modules>=0.2.1 in /home/pavle/anaconda3/lib/python3.9/site-packages (from google-auth<3.0.0dev,>=1.19.0->google-api-python-client>=1.2->pydrive) (0.2.8)\n",
      "Requirement already satisfied: pyparsing!=3.0.0,!=3.0.1,!=3.0.2,!=3.0.3,<4,>=2.4.2 in /home/pavle/anaconda3/lib/python3.9/site-packages (from httplib2<1dev,>=0.15.0->google-api-python-client>=1.2->pydrive) (3.0.4)\n",
      "Requirement already satisfied: pyasn1>=0.1.7 in /home/pavle/anaconda3/lib/python3.9/site-packages (from oauth2client>=4.0.0->pydrive) (0.4.8)\n",
      "Requirement already satisfied: certifi>=2017.4.17 in /home/pavle/anaconda3/lib/python3.9/site-packages (from requests<3.0.0dev,>=2.18.0->google-api-core!=2.0.*,!=2.1.*,!=2.2.*,!=2.3.0,<3.0.0dev,>=1.31.5->google-api-python-client>=1.2->pydrive) (2021.10.8)\n",
      "Requirement already satisfied: charset-normalizer~=2.0.0 in /home/pavle/anaconda3/lib/python3.9/site-packages (from requests<3.0.0dev,>=2.18.0->google-api-core!=2.0.*,!=2.1.*,!=2.2.*,!=2.3.0,<3.0.0dev,>=1.31.5->google-api-python-client>=1.2->pydrive) (2.0.4)\n",
      "Requirement already satisfied: urllib3<1.27,>=1.21.1 in /home/pavle/anaconda3/lib/python3.9/site-packages (from requests<3.0.0dev,>=2.18.0->google-api-core!=2.0.*,!=2.1.*,!=2.2.*,!=2.3.0,<3.0.0dev,>=1.31.5->google-api-python-client>=1.2->pydrive) (1.26.9)\n",
      "Requirement already satisfied: idna<4,>=2.5 in /home/pavle/anaconda3/lib/python3.9/site-packages (from requests<3.0.0dev,>=2.18.0->google-api-core!=2.0.*,!=2.1.*,!=2.2.*,!=2.3.0,<3.0.0dev,>=1.31.5->google-api-python-client>=1.2->pydrive) (3.3)\n",
      "Note: you may need to restart the kernel to use updated packages.\n"
     ]
    }
   ],
   "source": [
    "pip install pydrive"
   ]
  },
  {
   "cell_type": "code",
   "execution_count": 17,
   "id": "4815137c",
   "metadata": {},
   "outputs": [],
   "source": [
    "import yfinance as yf\n",
    "import pandas as pd\n",
    "import datetime\n",
    "from datetime import date\n",
    "import os\n",
    "import json\n",
    "from pydrive.auth import GoogleAuth\n",
    "from pydrive.drive import GoogleDrive"
   ]
  },
  {
   "cell_type": "code",
   "execution_count": 3,
   "id": "9f97d439",
   "metadata": {},
   "outputs": [
    {
     "name": "stdout",
     "output_type": "stream",
     "text": [
      "[*********************100%***********************]  1 of 1 completed\n"
     ]
    }
   ],
   "source": [
    "AMZN = yf.download(tickers = 'AMZN', period = '4Y', interval = '1d')"
   ]
  },
  {
   "cell_type": "code",
   "execution_count": 4,
   "id": "edb78f79",
   "metadata": {},
   "outputs": [
    {
     "data": {
      "text/html": [
       "<div>\n",
       "<style scoped>\n",
       "    .dataframe tbody tr th:only-of-type {\n",
       "        vertical-align: middle;\n",
       "    }\n",
       "\n",
       "    .dataframe tbody tr th {\n",
       "        vertical-align: top;\n",
       "    }\n",
       "\n",
       "    .dataframe thead th {\n",
       "        text-align: right;\n",
       "    }\n",
       "</style>\n",
       "<table border=\"1\" class=\"dataframe\">\n",
       "  <thead>\n",
       "    <tr style=\"text-align: right;\">\n",
       "      <th></th>\n",
       "      <th>Open</th>\n",
       "      <th>High</th>\n",
       "      <th>Low</th>\n",
       "      <th>Close</th>\n",
       "      <th>Adj Close</th>\n",
       "      <th>Volume</th>\n",
       "    </tr>\n",
       "    <tr>\n",
       "      <th>Date</th>\n",
       "      <th></th>\n",
       "      <th></th>\n",
       "      <th></th>\n",
       "      <th></th>\n",
       "      <th></th>\n",
       "      <th></th>\n",
       "    </tr>\n",
       "  </thead>\n",
       "  <tbody>\n",
       "    <tr>\n",
       "      <th>2018-12-03</th>\n",
       "      <td>88.473000</td>\n",
       "      <td>88.917000</td>\n",
       "      <td>86.500000</td>\n",
       "      <td>88.617996</td>\n",
       "      <td>88.617996</td>\n",
       "      <td>137246000</td>\n",
       "    </tr>\n",
       "    <tr>\n",
       "      <th>2018-12-04</th>\n",
       "      <td>87.800003</td>\n",
       "      <td>88.516998</td>\n",
       "      <td>83.250000</td>\n",
       "      <td>83.419998</td>\n",
       "      <td>83.419998</td>\n",
       "      <td>173890000</td>\n",
       "    </tr>\n",
       "    <tr>\n",
       "      <th>2018-12-06</th>\n",
       "      <td>80.743500</td>\n",
       "      <td>85.052498</td>\n",
       "      <td>80.492500</td>\n",
       "      <td>84.959503</td>\n",
       "      <td>84.959503</td>\n",
       "      <td>175788000</td>\n",
       "    </tr>\n",
       "    <tr>\n",
       "      <th>2018-12-07</th>\n",
       "      <td>85.253502</td>\n",
       "      <td>85.946503</td>\n",
       "      <td>81.273003</td>\n",
       "      <td>81.456497</td>\n",
       "      <td>81.456497</td>\n",
       "      <td>151522000</td>\n",
       "    </tr>\n",
       "    <tr>\n",
       "      <th>2018-12-10</th>\n",
       "      <td>81.192001</td>\n",
       "      <td>82.899498</td>\n",
       "      <td>79.543503</td>\n",
       "      <td>82.051498</td>\n",
       "      <td>82.051498</td>\n",
       "      <td>149896000</td>\n",
       "    </tr>\n",
       "    <tr>\n",
       "      <th>...</th>\n",
       "      <td>...</td>\n",
       "      <td>...</td>\n",
       "      <td>...</td>\n",
       "      <td>...</td>\n",
       "      <td>...</td>\n",
       "      <td>...</td>\n",
       "    </tr>\n",
       "    <tr>\n",
       "      <th>2022-11-28</th>\n",
       "      <td>93.930000</td>\n",
       "      <td>96.400002</td>\n",
       "      <td>93.430000</td>\n",
       "      <td>93.949997</td>\n",
       "      <td>93.949997</td>\n",
       "      <td>74943100</td>\n",
       "    </tr>\n",
       "    <tr>\n",
       "      <th>2022-11-29</th>\n",
       "      <td>94.040001</td>\n",
       "      <td>94.410004</td>\n",
       "      <td>91.440002</td>\n",
       "      <td>92.419998</td>\n",
       "      <td>92.419998</td>\n",
       "      <td>65567300</td>\n",
       "    </tr>\n",
       "    <tr>\n",
       "      <th>2022-11-30</th>\n",
       "      <td>92.470001</td>\n",
       "      <td>96.540001</td>\n",
       "      <td>91.529999</td>\n",
       "      <td>96.540001</td>\n",
       "      <td>96.540001</td>\n",
       "      <td>102805800</td>\n",
       "    </tr>\n",
       "    <tr>\n",
       "      <th>2022-12-01</th>\n",
       "      <td>96.989998</td>\n",
       "      <td>97.230003</td>\n",
       "      <td>94.919998</td>\n",
       "      <td>95.500000</td>\n",
       "      <td>95.500000</td>\n",
       "      <td>68488000</td>\n",
       "    </tr>\n",
       "    <tr>\n",
       "      <th>2022-12-02</th>\n",
       "      <td>94.474998</td>\n",
       "      <td>95.360001</td>\n",
       "      <td>93.779999</td>\n",
       "      <td>94.129997</td>\n",
       "      <td>94.129997</td>\n",
       "      <td>72096414</td>\n",
       "    </tr>\n",
       "  </tbody>\n",
       "</table>\n",
       "<p>1008 rows × 6 columns</p>\n",
       "</div>"
      ],
      "text/plain": [
       "                 Open       High        Low      Close  Adj Close     Volume\n",
       "Date                                                                        \n",
       "2018-12-03  88.473000  88.917000  86.500000  88.617996  88.617996  137246000\n",
       "2018-12-04  87.800003  88.516998  83.250000  83.419998  83.419998  173890000\n",
       "2018-12-06  80.743500  85.052498  80.492500  84.959503  84.959503  175788000\n",
       "2018-12-07  85.253502  85.946503  81.273003  81.456497  81.456497  151522000\n",
       "2018-12-10  81.192001  82.899498  79.543503  82.051498  82.051498  149896000\n",
       "...               ...        ...        ...        ...        ...        ...\n",
       "2022-11-28  93.930000  96.400002  93.430000  93.949997  93.949997   74943100\n",
       "2022-11-29  94.040001  94.410004  91.440002  92.419998  92.419998   65567300\n",
       "2022-11-30  92.470001  96.540001  91.529999  96.540001  96.540001  102805800\n",
       "2022-12-01  96.989998  97.230003  94.919998  95.500000  95.500000   68488000\n",
       "2022-12-02  94.474998  95.360001  93.779999  94.129997  94.129997   72096414\n",
       "\n",
       "[1008 rows x 6 columns]"
      ]
     },
     "execution_count": 4,
     "metadata": {},
     "output_type": "execute_result"
    }
   ],
   "source": [
    "AMZN"
   ]
  },
  {
   "cell_type": "code",
   "execution_count": 5,
   "id": "10c9c510",
   "metadata": {},
   "outputs": [
    {
     "data": {
      "text/plain": [
       "DatetimeIndex(['2018-12-03', '2018-12-04', '2018-12-06', '2018-12-07',\n",
       "               '2018-12-10', '2018-12-11', '2018-12-12', '2018-12-13',\n",
       "               '2018-12-14', '2018-12-17',\n",
       "               ...\n",
       "               '2022-11-18', '2022-11-21', '2022-11-22', '2022-11-23',\n",
       "               '2022-11-25', '2022-11-28', '2022-11-29', '2022-11-30',\n",
       "               '2022-12-01', '2022-12-02'],\n",
       "              dtype='datetime64[ns]', name='Date', length=1008, freq=None)"
      ]
     },
     "execution_count": 5,
     "metadata": {},
     "output_type": "execute_result"
    }
   ],
   "source": [
    "AMZN.index"
   ]
  },
  {
   "cell_type": "code",
   "execution_count": 6,
   "id": "731a8cca",
   "metadata": {},
   "outputs": [
    {
     "name": "stdout",
     "output_type": "stream",
     "text": [
      "Your browser has been opened to visit:\n",
      "\n",
      "    https://accounts.google.com/o/oauth2/auth?client_id=812602194545-bhfsd1i5lovrdsrf5jg27hjh3qrb7qn2.apps.googleusercontent.com&redirect_uri=http%3A%2F%2Flocalhost%3A8080%2F&scope=https%3A%2F%2Fwww.googleapis.com%2Fauth%2Fdrive&access_type=offline&response_type=code\n",
      "\n",
      "Authentication successful.\n"
     ]
    }
   ],
   "source": [
    "# Accessing the data in Google Drive\n",
    "# https://medium.com/@chingjunetao/simple-way-to-access-to-google-service-api-a22f4251bb52\n",
    "# https://towardsdatascience.com/how-to-manage-files-in-google-drive-with-python-d26471d91ecd\n",
    "\n",
    "gauth = GoogleAuth()\n",
    "gauth.LocalWebserverAuth() # client_secrets.json need to be in the same directory as the script\n",
    "drive = GoogleDrive(gauth)"
   ]
  },
  {
   "cell_type": "code",
   "execution_count": 7,
   "id": "212dae9c",
   "metadata": {},
   "outputs": [
    {
     "data": {
      "text/plain": [
       "GoogleDriveFileList({})"
      ]
     },
     "execution_count": 7,
     "metadata": {},
     "output_type": "execute_result"
    }
   ],
   "source": [
    "drive.ListFile()"
   ]
  },
  {
   "cell_type": "code",
   "execution_count": 8,
   "id": "373a10bb",
   "metadata": {},
   "outputs": [],
   "source": [
    "file_list = drive.ListFile({'q': \"'root' in parents\"}).GetList()"
   ]
  },
  {
   "cell_type": "code",
   "execution_count": 9,
   "id": "4e78f4ad",
   "metadata": {},
   "outputs": [
    {
     "data": {
      "text/plain": [
       "GoogleDriveFile({'kind': 'drive#file', 'userPermission': {'id': 'me', 'type': 'user', 'role': 'owner', 'kind': 'drive#permission', 'selfLink': 'https://www.googleapis.com/drive/v2/files/1mGA5p7d7vhPzJ_WlDvPPkq3dmdetyA1I/permissions/me', 'etag': '\"ubN3MiRscbBvwEsD5zlpSmMR1-w\"', 'pendingOwner': False}, 'selfLink': 'https://www.googleapis.com/drive/v2/files/1mGA5p7d7vhPzJ_WlDvPPkq3dmdetyA1I', 'ownerNames': ['Pavle Medvidovic'], 'lastModifyingUserName': 'Pavle Medvidovic', 'editable': True, 'writersCanShare': True, 'mimeType': 'application/vnd.google-apps.folder', 'parents': [{'selfLink': 'https://www.googleapis.com/drive/v2/files/1mGA5p7d7vhPzJ_WlDvPPkq3dmdetyA1I/parents/0AJTOMTHcM9voUk9PVA', 'id': '0AJTOMTHcM9voUk9PVA', 'isRoot': True, 'kind': 'drive#parentReference', 'parentLink': 'https://www.googleapis.com/drive/v2/files/0AJTOMTHcM9voUk9PVA'}], 'appDataContents': False, 'iconLink': 'https://drive-thirdparty.googleusercontent.com/16/type/application/vnd.google-apps.folder', 'shared': False, 'lastModifyingUser': {'displayName': 'Pavle Medvidovic', 'kind': 'drive#user', 'isAuthenticatedUser': True, 'permissionId': '12582883160468634371', 'emailAddress': 'medvidov@usc.edu', 'picture': {'url': 'https://lh3.googleusercontent.com/a/ALm5wu1dDk6LbUBXZZdw-B-eDCjG2YxBKfzKQeU2xNkEIg=s64'}}, 'owners': [{'displayName': 'Pavle Medvidovic', 'kind': 'drive#user', 'isAuthenticatedUser': True, 'permissionId': '12582883160468634371', 'emailAddress': 'medvidov@usc.edu', 'picture': {'url': 'https://lh3.googleusercontent.com/a/ALm5wu1dDk6LbUBXZZdw-B-eDCjG2YxBKfzKQeU2xNkEIg=s64'}}], 'copyable': False, 'etag': '\"MTY2ODA0NjE4OTE2NQ\"', 'alternateLink': 'https://drive.google.com/drive/folders/1mGA5p7d7vhPzJ_WlDvPPkq3dmdetyA1I', 'embedLink': 'https://drive.google.com/embeddedfolderview?id=1mGA5p7d7vhPzJ_WlDvPPkq3dmdetyA1I', 'copyRequiresWriterPermission': False, 'spaces': ['drive'], 'id': '1mGA5p7d7vhPzJ_WlDvPPkq3dmdetyA1I', 'title': 'data', 'labels': {'viewed': True, 'restricted': False, 'starred': False, 'hidden': False, 'trashed': False}, 'explicitlyTrashed': False, 'createdDate': '2022-11-10T02:09:49.165Z', 'modifiedDate': '2022-11-10T02:09:49.165Z', 'modifiedByMeDate': '2022-11-10T02:09:49.165Z', 'lastViewedByMeDate': '2022-11-29T02:04:13.190Z', 'markedViewedByMeDate': '1970-01-01T00:00:00.000Z', 'quotaBytesUsed': '0', 'version': '3', 'capabilities': {'canEdit': True, 'canCopy': False}})"
      ]
     },
     "execution_count": 9,
     "metadata": {},
     "output_type": "execute_result"
    }
   ],
   "source": [
    "file_list[1]"
   ]
  },
  {
   "cell_type": "code",
   "execution_count": 10,
   "id": "fbdb58cd",
   "metadata": {},
   "outputs": [],
   "source": [
    "# TODO:\n",
    "# Replace Timestamp column with date\n",
    "# Import ALL data\n",
    "# Sentiment analysis?\n",
    "# Processing JSON data"
   ]
  },
  {
   "cell_type": "code",
   "execution_count": 14,
   "id": "a6b79702",
   "metadata": {},
   "outputs": [],
   "source": [
    "data = \"../data/ratings/Appliances.csv\"\n",
    "\n",
    "col_names = ['Item ID', 'User ID', 'Rating', 'Timestamp']\n",
    "\n",
    "df = pd.read_csv(data, names = col_names)"
   ]
  },
  {
   "cell_type": "code",
   "execution_count": 15,
   "id": "942eab62",
   "metadata": {},
   "outputs": [
    {
     "data": {
      "text/html": [
       "<div>\n",
       "<style scoped>\n",
       "    .dataframe tbody tr th:only-of-type {\n",
       "        vertical-align: middle;\n",
       "    }\n",
       "\n",
       "    .dataframe tbody tr th {\n",
       "        vertical-align: top;\n",
       "    }\n",
       "\n",
       "    .dataframe thead th {\n",
       "        text-align: right;\n",
       "    }\n",
       "</style>\n",
       "<table border=\"1\" class=\"dataframe\">\n",
       "  <thead>\n",
       "    <tr style=\"text-align: right;\">\n",
       "      <th></th>\n",
       "      <th>User ID</th>\n",
       "      <th>Item ID</th>\n",
       "      <th>Rating</th>\n",
       "      <th>Timestamp</th>\n",
       "    </tr>\n",
       "  </thead>\n",
       "  <tbody>\n",
       "    <tr>\n",
       "      <th>0</th>\n",
       "      <td>1118461304</td>\n",
       "      <td>A3NHUQ33CFH3VM</td>\n",
       "      <td>5.0</td>\n",
       "      <td>1385510400</td>\n",
       "    </tr>\n",
       "    <tr>\n",
       "      <th>1</th>\n",
       "      <td>1118461304</td>\n",
       "      <td>A3SK6VNBQDNBJE</td>\n",
       "      <td>5.0</td>\n",
       "      <td>1383264000</td>\n",
       "    </tr>\n",
       "    <tr>\n",
       "      <th>2</th>\n",
       "      <td>1118461304</td>\n",
       "      <td>A3SOFHUR27FO3K</td>\n",
       "      <td>5.0</td>\n",
       "      <td>1381363200</td>\n",
       "    </tr>\n",
       "    <tr>\n",
       "      <th>3</th>\n",
       "      <td>1118461304</td>\n",
       "      <td>A1HOG1PYCAE157</td>\n",
       "      <td>5.0</td>\n",
       "      <td>1381276800</td>\n",
       "    </tr>\n",
       "    <tr>\n",
       "      <th>4</th>\n",
       "      <td>1118461304</td>\n",
       "      <td>A26JGAM6GZMM4V</td>\n",
       "      <td>5.0</td>\n",
       "      <td>1378512000</td>\n",
       "    </tr>\n",
       "    <tr>\n",
       "      <th>...</th>\n",
       "      <td>...</td>\n",
       "      <td>...</td>\n",
       "      <td>...</td>\n",
       "      <td>...</td>\n",
       "    </tr>\n",
       "    <tr>\n",
       "      <th>602772</th>\n",
       "      <td>B01HJH2PY0</td>\n",
       "      <td>A24A9P4F2SLTK5</td>\n",
       "      <td>5.0</td>\n",
       "      <td>1502323200</td>\n",
       "    </tr>\n",
       "    <tr>\n",
       "      <th>602773</th>\n",
       "      <td>B01HJHHEA0</td>\n",
       "      <td>A2JCB4KHBWEELW</td>\n",
       "      <td>2.0</td>\n",
       "      <td>1533081600</td>\n",
       "    </tr>\n",
       "    <tr>\n",
       "      <th>602774</th>\n",
       "      <td>B01HJHHEA0</td>\n",
       "      <td>A1LDYYVTLPP2Z5</td>\n",
       "      <td>5.0</td>\n",
       "      <td>1523577600</td>\n",
       "    </tr>\n",
       "    <tr>\n",
       "      <th>602775</th>\n",
       "      <td>B01HJH92JQ</td>\n",
       "      <td>AP1M5O06IOYZ7</td>\n",
       "      <td>1.0</td>\n",
       "      <td>1521763200</td>\n",
       "    </tr>\n",
       "    <tr>\n",
       "      <th>602776</th>\n",
       "      <td>B01HJH92JQ</td>\n",
       "      <td>A1BU98NV4Y0P9K</td>\n",
       "      <td>3.0</td>\n",
       "      <td>1515369600</td>\n",
       "    </tr>\n",
       "  </tbody>\n",
       "</table>\n",
       "<p>602777 rows × 4 columns</p>\n",
       "</div>"
      ],
      "text/plain": [
       "           User ID         Item ID  Rating   Timestamp\n",
       "0       1118461304  A3NHUQ33CFH3VM     5.0  1385510400\n",
       "1       1118461304  A3SK6VNBQDNBJE     5.0  1383264000\n",
       "2       1118461304  A3SOFHUR27FO3K     5.0  1381363200\n",
       "3       1118461304  A1HOG1PYCAE157     5.0  1381276800\n",
       "4       1118461304  A26JGAM6GZMM4V     5.0  1378512000\n",
       "...            ...             ...     ...         ...\n",
       "602772  B01HJH2PY0  A24A9P4F2SLTK5     5.0  1502323200\n",
       "602773  B01HJHHEA0  A2JCB4KHBWEELW     2.0  1533081600\n",
       "602774  B01HJHHEA0  A1LDYYVTLPP2Z5     5.0  1523577600\n",
       "602775  B01HJH92JQ   AP1M5O06IOYZ7     1.0  1521763200\n",
       "602776  B01HJH92JQ  A1BU98NV4Y0P9K     3.0  1515369600\n",
       "\n",
       "[602777 rows x 4 columns]"
      ]
     },
     "execution_count": 15,
     "metadata": {},
     "output_type": "execute_result"
    }
   ],
   "source": [
    "df"
   ]
  },
  {
   "cell_type": "code",
   "execution_count": 18,
   "id": "03d0cafb",
   "metadata": {},
   "outputs": [],
   "source": [
    "five_core_data = '../data/5-core/'\n",
    "ratings_data = '../data/ratings/'\n",
    "\n",
    "col_names = ['Item ID', 'User ID', 'Rating', 'Timestamp']\n",
    "\n",
    "five_cores = {}\n",
    "ratings = {}\n",
    "\n",
    "# Iterate through the data\n",
    "for subdir, dirs, files in os.walk(five_core_data):\n",
    "    \n",
    "    # For each file, get the filename and add it to the appropriate set\n",
    "    for file in files:\n",
    "        filename = str(os.path.join(subdir, file))\n",
    "        five_cores[filename] = \n",
    "        "
   ]
  },
  {
   "cell_type": "code",
   "execution_count": null,
   "id": "7648952f",
   "metadata": {},
   "outputs": [],
   "source": []
  }
 ],
 "metadata": {
  "kernelspec": {
   "display_name": "Python 3 (ipykernel)",
   "language": "python",
   "name": "python3"
  },
  "language_info": {
   "codemirror_mode": {
    "name": "ipython",
    "version": 3
   },
   "file_extension": ".py",
   "mimetype": "text/x-python",
   "name": "python",
   "nbconvert_exporter": "python",
   "pygments_lexer": "ipython3",
   "version": "3.9.12"
  }
 },
 "nbformat": 4,
 "nbformat_minor": 5
}
